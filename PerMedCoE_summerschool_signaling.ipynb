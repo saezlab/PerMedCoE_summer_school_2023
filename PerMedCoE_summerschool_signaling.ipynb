{
 "cells": [
  {
   "cell_type": "markdown",
   "metadata": {
    "toc": true
   },
   "source": [
    "<h1>Contents<span class=\"tocSkip\"></span></h1>\n",
    "<div class=\"toc\"><ul class=\"toc-item\"><li><span><a href=\"#Learning-outcomes\" data-toc-modified-id=\"Learning-outcomes-1\"><span class=\"toc-item-num\">1&nbsp;&nbsp;</span>Learning outcomes</a></span></li><li><span><a href=\"#Links-to-use-during-the-course\" data-toc-modified-id=\"Links-to-use-during-the-course-2\"><span class=\"toc-item-num\">2&nbsp;&nbsp;</span>Links to use during the course</a></span></li><li><span><a href=\"#Quick-intro-to-Pandas\" data-toc-modified-id=\"Quick-intro-to-Pandas-3\"><span class=\"toc-item-num\">3&nbsp;&nbsp;</span>Quick intro to Pandas</a></span></li><li><span><a href=\"#Load-some-utility-functions\" data-toc-modified-id=\"Load-some-utility-functions-4\"><span class=\"toc-item-num\">4&nbsp;&nbsp;</span>Load some utility functions</a></span></li><li><span><a href=\"#Database-knowledge\" data-toc-modified-id=\"Database-knowledge-5\"><span class=\"toc-item-num\">5&nbsp;&nbsp;</span>Database knowledge</a></span><ul class=\"toc-item\"><li><span><a href=\"#Custom-networks-of-causal-interactions-from-public-databases\" data-toc-modified-id=\"Custom-networks-of-causal-interactions-from-public-databases-5.1\"><span class=\"toc-item-num\">5.1&nbsp;&nbsp;</span>Custom networks of causal interactions from public databases</a></span><ul class=\"toc-item\"><li><span><a href=\"#Sources\" data-toc-modified-id=\"Sources-5.1.1\"><span class=\"toc-item-num\">5.1.1&nbsp;&nbsp;</span>Sources</a></span></li><li><span><a href=\"#Quality\" data-toc-modified-id=\"Quality-5.1.2\"><span class=\"toc-item-num\">5.1.2&nbsp;&nbsp;</span>Quality</a></span></li><li><span><a href=\"#Representations\" data-toc-modified-id=\"Representations-5.1.3\"><span class=\"toc-item-num\">5.1.3&nbsp;&nbsp;</span>Representations</a></span></li><li><span><a href=\"#OmniPath\" data-toc-modified-id=\"OmniPath-5.1.4\"><span class=\"toc-item-num\">5.1.4&nbsp;&nbsp;</span>OmniPath</a></span></li><li><span><a href=\"#More-interactions\" data-toc-modified-id=\"More-interactions-5.1.5\"><span class=\"toc-item-num\">5.1.5&nbsp;&nbsp;</span>More interactions</a></span></li><li><span><a href=\"#Less-interactions\" data-toc-modified-id=\"Less-interactions-5.1.6\"><span class=\"toc-item-num\">5.1.6&nbsp;&nbsp;</span>Less interactions</a></span></li><li><span><a href=\"#Which-resources-are-available?\" data-toc-modified-id=\"Which-resources-are-available?-5.1.7\"><span class=\"toc-item-num\">5.1.7&nbsp;&nbsp;</span>Which resources are available?</a></span></li><li><span><a href=\"#TF-target-interactions\" data-toc-modified-id=\"TF-target-interactions-5.1.8\"><span class=\"toc-item-num\">5.1.8&nbsp;&nbsp;</span>TF-target interactions</a></span></li><li><span><a href=\"#Ambiguous-directions-and-effect-signs\" data-toc-modified-id=\"Ambiguous-directions-and-effect-signs-5.1.9\"><span class=\"toc-item-num\">5.1.9&nbsp;&nbsp;</span>Ambiguous directions and effect signs</a></span></li><li><span><a href=\"#Mouse-and-rat\" data-toc-modified-id=\"Mouse-and-rat-5.1.10\"><span class=\"toc-item-num\">5.1.10&nbsp;&nbsp;</span>Mouse and rat</a></span></li></ul></li><li><span><a href=\"#Annotations\" data-toc-modified-id=\"Annotations-5.2\"><span class=\"toc-item-num\">5.2&nbsp;&nbsp;</span>Annotations</a></span><ul class=\"toc-item\"><li><span><a href=\"#Pathway-responsive-signatures\" data-toc-modified-id=\"Pathway-responsive-signatures-5.2.1\"><span class=\"toc-item-num\">5.2.1&nbsp;&nbsp;</span>Pathway responsive signatures</a></span></li><li><span><a href=\"#Miscellaneous-annotations\" data-toc-modified-id=\"Miscellaneous-annotations-5.2.2\"><span class=\"toc-item-num\">5.2.2&nbsp;&nbsp;</span>Miscellaneous annotations</a></span></li></ul></li></ul></li><li><span><a href=\"#From-transcriptomics-to-Transcription-Factor-(TF)-activities-with-Decoupler\" data-toc-modified-id=\"From-transcriptomics-to-Transcription-Factor-(TF)-activities-with-Decoupler-6\"><span class=\"toc-item-num\">6&nbsp;&nbsp;</span>From transcriptomics to Transcription Factor (TF) activities with Decoupler</a></span><ul class=\"toc-item\"><li><span><a href=\"#How-Decoupler-accesses-prior-knowledge?\" data-toc-modified-id=\"How-Decoupler-accesses-prior-knowledge?-6.1\"><span class=\"toc-item-num\">6.1&nbsp;&nbsp;</span>How Decoupler accesses prior knowledge?</a></span></li><li><span><a href=\"#TF-activity-inference\" data-toc-modified-id=\"TF-activity-inference-6.2\"><span class=\"toc-item-num\">6.2&nbsp;&nbsp;</span>TF activity inference</a></span></li><li><span><a href=\"#Pathway-activities\" data-toc-modified-id=\"Pathway-activities-6.3\"><span class=\"toc-item-num\">6.3&nbsp;&nbsp;</span>Pathway activities</a></span></li><li><span><a href=\"#Single-cell-transcriptomics\" data-toc-modified-id=\"Single-cell-transcriptomics-6.4\"><span class=\"toc-item-num\">6.4&nbsp;&nbsp;</span>Single-cell transcriptomics</a></span></li></ul></li><li><span><a href=\"#Finding-causal-signaling-networks-from-perturbations-to-TFs-with-CARNIVAL\" data-toc-modified-id=\"Finding-causal-signaling-networks-from-perturbations-to-TFs-with-CARNIVAL-7\"><span class=\"toc-item-num\">7&nbsp;&nbsp;</span>Finding causal signaling networks from perturbations to TFs with CARNIVAL</a></span><ul class=\"toc-item\"><li><span><a href=\"#CARNIVAL-with-Python\" data-toc-modified-id=\"CARNIVAL-with-Python-7.1\"><span class=\"toc-item-num\">7.1&nbsp;&nbsp;</span>CARNIVAL with Python</a></span></li><li><span><a href=\"#Understanding-CARNIVAL:-Causal-reasoning-about-changes-in-activity\" data-toc-modified-id=\"Understanding-CARNIVAL:-Causal-reasoning-about-changes-in-activity-7.2\"><span class=\"toc-item-num\">7.2&nbsp;&nbsp;</span>Understanding CARNIVAL: Causal reasoning about changes in activity</a></span></li><li><span><a href=\"#Manipulating-the-CARNIVAL-problem-with-CORNETO\" data-toc-modified-id=\"Manipulating-the-CARNIVAL-problem-with-CORNETO-7.3\"><span class=\"toc-item-num\">7.3&nbsp;&nbsp;</span>Manipulating the CARNIVAL problem with CORNETO</a></span></li><li><span><a href=\"#From-perturbations-to-TFs:-a-larger-example\" data-toc-modified-id=\"From-perturbations-to-TFs:-a-larger-example-7.4\"><span class=\"toc-item-num\">7.4&nbsp;&nbsp;</span>From perturbations to TFs: a larger example</a></span></li><li><span><a href=\"#Assignments\" data-toc-modified-id=\"Assignments-7.5\"><span class=\"toc-item-num\">7.5&nbsp;&nbsp;</span>Assignments</a></span><ul class=\"toc-item\"><li><span><a href=\"#A1\" data-toc-modified-id=\"A1-7.5.1\"><span class=\"toc-item-num\">7.5.1&nbsp;&nbsp;</span>A1</a></span></li><li><span><a href=\"#A2\" data-toc-modified-id=\"A2-7.5.2\"><span class=\"toc-item-num\">7.5.2&nbsp;&nbsp;</span>A2</a></span></li><li><span><a href=\"#A3\" data-toc-modified-id=\"A3-7.5.3\"><span class=\"toc-item-num\">7.5.3&nbsp;&nbsp;</span>A3</a></span></li><li><span><a href=\"#A4\" data-toc-modified-id=\"A4-7.5.4\"><span class=\"toc-item-num\">7.5.4&nbsp;&nbsp;</span>A4</a></span></li></ul></li></ul></li><li><span><a href=\"#Advanced-topics-(Optional)\" data-toc-modified-id=\"Advanced-topics-(Optional)-8\"><span class=\"toc-item-num\">8&nbsp;&nbsp;</span>Advanced topics (Optional)</a></span><ul class=\"toc-item\"><li><span><a href=\"#Advanced-CARNIVAL-with-CORNETO\" data-toc-modified-id=\"Advanced-CARNIVAL-with-CORNETO-8.1\"><span class=\"toc-item-num\">8.1&nbsp;&nbsp;</span>Advanced CARNIVAL with CORNETO</a></span><ul class=\"toc-item\"><li><span><a href=\"#Constrained-optimization-with-CORNETO\" data-toc-modified-id=\"Constrained-optimization-with-CORNETO-8.1.1\"><span class=\"toc-item-num\">8.1.1&nbsp;&nbsp;</span>Constrained optimization with CORNETO</a></span><ul class=\"toc-item\"><li><span><a href=\"#The-Knapsack-problem\" data-toc-modified-id=\"The-Knapsack-problem-8.1.1.1\"><span class=\"toc-item-num\">8.1.1.1&nbsp;&nbsp;</span>The Knapsack problem</a></span></li><li><span><a href=\"#Example-1\" data-toc-modified-id=\"Example-1-8.1.1.2\"><span class=\"toc-item-num\">8.1.1.2&nbsp;&nbsp;</span>Example 1</a></span></li><li><span><a href=\"#Example-2\" data-toc-modified-id=\"Example-2-8.1.1.3\"><span class=\"toc-item-num\">8.1.1.3&nbsp;&nbsp;</span>Example 2</a></span></li><li><span><a href=\"#Network-Flow-problem\" data-toc-modified-id=\"Network-Flow-problem-8.1.1.4\"><span class=\"toc-item-num\">8.1.1.4&nbsp;&nbsp;</span>Network Flow problem</a></span></li></ul></li><li><span><a href=\"#Customizing-carnival\" data-toc-modified-id=\"Customizing-carnival-8.1.2\"><span class=\"toc-item-num\">8.1.2&nbsp;&nbsp;</span>Customizing carnival</a></span></li></ul></li></ul></li><li><span><a href=\"#References\" data-toc-modified-id=\"References-9\"><span class=\"toc-item-num\">9&nbsp;&nbsp;</span>References</a></span></li></ul></div>"
   ]
  },
  {
   "cell_type": "markdown",
   "metadata": {
    "id": "CGTTbKSxq2UM"
   },
   "source": [
    "# **From transcriptomics to mechanistic models of signalling**\n",
    "\n",
    "- Pablo Rodriguez Mier (pablo.rodriguez-mier@uni-heidelberg.de)\n",
    "- Denes Turei (turei.denes@gmail.com)<br><br>\n",
    "_[Saez-Rodriguez Group](https://saezlab.org/), Institute for Computational Biomedicine, Heidelberg University_<br><br>\n",
    "\n",
    "Cellular signalling networks are the communication pathways that govern the behaviour of cells. They allow cells to receive and process external signals, such as growth factors and hormones, and respond appropriately by activating specific gene expression programs or inducing cellular behaviours like proliferation, migration, and differentiation. Deterioration of these signalling networks can lead to various diseases, including cancer, metabolic disorders, and immune disorders. Understanding the regulatory mechanisms of signalling networks is critical to developing effective therapies for these diseases.\n",
    "\n",
    "One approach to discover signalling network alterations from omics data is through the use of **upstream regulatory pathway analysis,** which aims to identify the **transcription factors** and **upstream signalling regulators** that control the expression of downstream genes. Changes in gene expression patterns can be used as cues to **infer the activity of transcription factors (TFs)** that control the transcription of those genes, using specific enrichment tests and prior *(i.e. database or literature)* knowledge of TF regulons *(i.e. the sets of genes regulated by each TF).* Once the activities of TFs are inferred from gene expression, the potential upstream signalling cascades responsible for the changes in TF activities can be explored using **causal reasoning.** To do causal reasoning, we start off from large, general signalling networks retrieved from databases and called **prior knowledge networks (PKNs).** Our aim is to highlight the pathways within this network that provide a plausible explanation of the activity patterns. Causal reasoning is implemented in our software package **[CARNIVAL](https://saezlab.github.io/CARNIVAL)<sup>1</sup>.** By using powerful algorithms and general purpose integer optimization solvers, CARNIVAL explores the vast space of potential signalling alterations to identify a parsimonious signalling network that explains the measurements.\n",
    "\n",
    "In this course, participants will learn how to process differential gene expression data to estimate transcription factor activities with **[Decoupler](https://decoupler-py.readthedocs.io/)<sup>2</sup>,** obtain and process PKNs with **[OmniPath](https://omnipathdb.org/)<sup>3,4</sup>** and **[pypath](https://pypath.omnipathdb.org/),** and use **CARNIVAL** to infer signalling networks that explain the activity patterns. In this course we will use carnival through **[CORNETO](https://github.com/saezlab/corneto)**, a software package that provides uniform and convenient interface not only to CARNIVAL, but other similar methods.\n",
    "\n",
    "https://permedcoe.eu/training/virtual-course-from-transcriptomics-to-mechanistic-models-of-signalling/\n",
    "\n",
    "<figure>\n",
    "<img src=\"https://github.com/saezlab/PerMedCoE_tools_virtual_course_2023/raw/main/assets/overall-course-view.png\" alt=\"maxflow\" width=\"1024\"/>\n",
    "<figcaption>\n",
    "<strong>Figure 1. Bird's eye view of the workflow.</strong> The workflow presented in this tutorial is widely applied to analyse the mechanisms behind diseases, experimental perturbations, drug effects, etc. The main goal of the workflow is to highlight within a large, generic signalling network the components that play a role in the mechanisms behind the investigated phenomena. First we use gene expression signatures from databases to infer the activities of certain network components from transcriptomics data. Then we map the activities onto a large, generic signalling network and use causal reasoning to find the relevant subnetworks that represent the mechanisms of interest.\n",
    "</figcaption>\n",
    "</figure>\n",
    "\n",
    "## Learning outcomes\n",
    "At the end of these sessions, the participants will be able to:\n",
    "\n",
    "- Obtain custom networks of causal interactions from public databases using OmniPath/pypath.\n",
    "- Combine these networks with molecular biological activities from experimental data using Decoupler.\n",
    "- Apply causal reasoning to find the most plausible causal mechanisms that explain the observed activity patterns using CARNIVAL.\n",
    "- Use CARNIVAL with CORNETO to customise the contextualisation of signalling networks.\n",
    "\n",
    "## Links to use during the course\n",
    "- [This notebook on Google Colab](https://colab.research.google.com/drive/1llrWl4S5dpRlk7h6NxFnKiN-2I0UMAWn)\n",
    "- [Live document](https://docs.google.com/document/d/1TWp8HLjZGeEQcmNnTx88DzTLbn4jcBwGday6ngw5j1Y/edit?usp=sharing)\n",
    "- [Slides](https://docs.google.com/presentation/d/1GLlTFKXme8NDL9AOmpcj6oONaIS3sc7PGCdDopvmLeI/edit?usp=sharing)"
   ]
  },
  {
   "cell_type": "markdown",
   "metadata": {},
   "source": [
    "## Quick intro to Pandas\n",
    "\n",
    "In this course, we will do some minimal use of Pandas to read files and do some minimal processing. Pandas is a powerful open-source library in Python that provides extensive data manipulation and analysis capabilities. Pandas is built on top of the NumPy library. It is mainly used for data cleaning, filtering, aggregation, merging, reshaping, analysis, and visualization.\n",
    "\n",
    "Pandas provides data structures such as Series (1-dimensional) and DataFrame (2-dimensional) which makes data manipulation in Python similar to working with tables in SQL or data frames in R. Key functions include handling of missing data, slicing, reshaping, merging, and pivoting of data sets, as well as a host of statistical functions that can be applied to data frames.\n",
    "\n",
    "Here are few code blocks to see how can we use Pandas to create a small dataframe with two columns and four rows, and how can we use Pandas Indexing for selecting data. This should be enough for this course, but feel free to check the Pandas [\"Getting Started\"](https://pandas.pydata.org/docs/getting_started/index.html#getting-started) section to learn more about it."
   ]
  },
  {
   "cell_type": "code",
   "execution_count": null,
   "metadata": {},
   "outputs": [],
   "source": [
    "import pandas as pd\n",
    "\n",
    "df = pd.DataFrame({'col1': [0, 1, 2, 3], 'col2': ['a', 'b', 'c', 'd']}, index=['row1', 'row2', 'row3', 'row4'])\n",
    "df"
   ]
  },
  {
   "cell_type": "code",
   "execution_count": null,
   "metadata": {},
   "outputs": [],
   "source": [
    "# Transpose a dataframe\n",
    "df.T"
   ]
  },
  {
   "cell_type": "code",
   "execution_count": null,
   "metadata": {},
   "outputs": [],
   "source": [
    "# Access a row by index (index 0, all columns with ':')\n",
    "df.iloc[0, :]"
   ]
  },
  {
   "cell_type": "code",
   "execution_count": null,
   "metadata": {},
   "outputs": [],
   "source": [
    "# We can use logic conditions to filter data\n",
    "df[df.col1 >= 2]"
   ]
  },
  {
   "cell_type": "markdown",
   "metadata": {
    "id": "WQsD36kYRWT6"
   },
   "source": [
    "## Load some utility functions\n",
    "\n",
    "Make sure that you have cloned the `PerMedCoE_summer_school_2023` repository into the `permedcoe` directory, located in the same place as this notebook. We will import the functions from `utils.py` to make our life easier."
   ]
  },
  {
   "cell_type": "code",
   "execution_count": null,
   "metadata": {
    "id": "9-RdNSkTRjEb"
   },
   "outputs": [],
   "source": [
    "from permedcoe.utils import (\n",
    "    plot,\n",
    "    get_problem_values,\n",
    "    get_selected_edges_and_nodes,\n",
    "    set_problem_value,\n",
    ")"
   ]
  },
  {
   "cell_type": "markdown",
   "metadata": {
    "id": "cGEc50wltzoq"
   },
   "source": [
    "## Database knowledge\n",
    "\n",
    "<figure>\n",
    "<img src=\"https://static.omnipathdb.org/omnipath-contents-applications.png\" alt=\"maxflow\" width=\"800\"/>\n",
    "<figcaption>\n",
    "<strong>Figure 2. OmniPath database contents and applications.</strong> OmniPath is a database built from over 170 original resources. It consists of five independent database domains: 1) network of molecular interactions; 2) enzyme-PTM relationships; 3) protein complexes; 4) annotations of gene, protein or other molecule's functions, localisations, structures, etc; 5) roles of proteins in intercellular communication (ligand, receptor, adhesion, transporter, etc). OmniPath is most often used for the analysis of systems level molecular data (omics data); middle (green) section. Some tools commonly making use of OmniPath data are shown in the bottom (yellow) section.\n",
    "</figcaption>\n",
    "</figure>\n",
    "\n",
    "### Custom networks of causal interactions from public databases\n",
    "\n",
    "#### Sources\n",
    "\n",
    "Comprehensive, systems level knowledge about molecular interactions typically comes from the following sources:\n",
    "\n",
    "*   Expert curation of literature\n",
    "*   High-throughput (HTP) screenings (AP-MS, yeast-2-hybrid, ChIP-Seq, etc)\n",
    "*   *In silico* prediction (e.g. from functional motives of sequences, or interactions of orthologous genes in other organisms)\n",
    "*   Literature mining by natural language processing software (e.g. [INDRA](https://indra.bio/)<sup>5</sup>)\n",
    "\n",
    "#### Quality\n",
    "\n",
    "Traditionally literature curation is considered to be the most reliable, however, requiring the contribution of highly skilled experts, it is expensive, hence the volume of the available data is relatively small. In general, there is a **trade-off between quality and coverage:** to cover less known molecular players or putative interactions, we have to account for a higher proportion of false positive interactions. A smaller network is not only higher quality, but easier to process, and as we will see later, causal reasoning is a computationally intensive method.\n",
    "\n",
    "#### Representations\n",
    "\n",
    "Computational representations of biological data are always simplified compared to reality. The simplified representation might be an advantage as it enables the application of various mathematical methods for inference or simulation. It can be also a disadvantage though, because certain biological mechanisms might be lost or imperfectly represented. The most common representations of molecular interactions are classified in the Systems Biology Graphical Notation ([SBGN](https://sbgn.github.io/))<sup>6</sup> standard. Here we restrict ourselves to the most important points:\n",
    "\n",
    "*   We use the so called **activity flow** representation, which is a network of molecules connected by **directed,** either **stimulatory** or **inhibitory** edges\n",
    "*   We use this representation because it is suitable for causal reasoning\n",
    "*   We acknowledge that in many cases it fails to fully capture the biological reality\n",
    "*   The representations more faithful to biology, such as *process description* (e.g. [Reactome](https://reactome.org/), [KEGG](https://www.genome.jp/kegg/kegg3a.html)) would reduce the performance of our inference due to lower coverage and more complex networks\n",
    "*   A large amount of further interactions are available from HTP screens, however these are undirected, missing the causality information, which is essential for causal reasoning (the largest database of such undirected interactions is [IntAct](https://www.ebi.ac.uk/intact/))\n",
    "\n",
    "<figure>\n",
    "<img src=\"https://static.omnipathdb.org/causality.png\" alt=\"maxflow\" width=\"800\"/>\n",
    "<figcaption>\n",
    "<strong>Figure 3. Activity flow representation and its limitations.</strong> Many proteins and other molecular players have more than two states of activity: they are not simply active or inactive, but they have more than two different behaviours, each of these regulated in a certain way. In the activity flow representation, a protein's activity can be understood along a single dimension, and the edges are either activatory or inhibitory. This representation obviously can not deal with the situations when a protein has multiple, alternatively regulated activities (a): in this example, A activates a behaviour of B when it does something to C; but also A inhibits the behaviour of B when it does something to D; hence the sign of the A→B edge is problematic. Currently this is a limitation, all easy solutions are imperfect: (b) we can remove the effect sign from the A→B edge, but our tools can not handle \"neutral\" signs; (c) we can split node B to two variants (e.g. phosphorylated and dephosphorylated), but this introduces excess complexity, resulting computationally heavier models, and also in many cases the database information is not available at this level of granularity; (d) we can collapse the A→B→C and A→B→D cascades into indirect connections, however in a larger network this is not always possible.\n",
    "</figcaption>\n",
    "</figure>\n",
    "\n",
    "#### OmniPath\n",
    "\n",
    "Literature curated interaction data in activity flow representation has been collected by many groups over the past two decades, and is scattered across many resources. The largest ones are [SIGNOR](https://signor.uniroma2.it/), [SignaLink](http://signalink.org/) and [SPIKE](https://www.cs.tau.ac.il/~spike/), but dozens of others exist. To combine all these in single, easily available access point, we created a new database called [*OmniPath*](https://omnipathdb.org/)<sup>*3,4*</sup>*.* OmniPath is built by the Python package *pypath*, which downloads data from the original sources and brings all of them to a uniform format. Then it makes available the combined data by a public web service. We also developed clients for R, Python and Cytoscape to esily retrieve data from the web service. Here we will use the Python client, and in the first example we download the original, literature curated signalling network dataset.\n",
    "\n",
    "<figure>\n",
    "<img src=\"https://static.omnipathdb.org/omnipath-architecture-old.png\" alt=\"maxflow\" width=\"800\"/>\n",
    "<figcaption>\n",
    "<strong>Figure 4. Computational architecture of OmniPath.</strong> The <a href=\"https://pypath.omnipathdb.org/\" target=\"_blank\">pypath</a> Python module downloads and processes the original resources and builds the OmniPath databases. The databases are publicly available by the web service at <a href=\"https://omnipathdb.org/\" target=\"_blank\">omnipathdb.org</a>. The users can retrieve the data directly from pypath, or by HTTP queries to the web service (returns JSON or tabular formats), and most commonly, by one of the client software (<a href=\"https://r.omnipathdb.org/\" target=\"_blank\">R</a>, <a href=\"https://omnipath.readthedocs.io/\" target=\"_blank\">Python</a> and <a href=\"https://apps.cytoscape.org/apps/omnipath\" target=\"_blank\">Cytoscape</a>).\n",
    "</figcaption>\n",
    "</figure>"
   ]
  },
  {
   "cell_type": "code",
   "execution_count": null,
   "metadata": {
    "colab": {
     "base_uri": "https://localhost:8080/",
     "height": 487
    },
    "id": "jQ1f2CpSI_xK",
    "outputId": "9130b054-2f7a-4620-eb89-eeb3f6f46b36"
   },
   "outputs": [],
   "source": [
    "import omnipath as op\n",
    "\n",
    "curated_pathways = op.interactions.OmniPath.get(genesymbols = True)\n",
    "curated_pathways"
   ]
  },
  {
   "cell_type": "markdown",
   "metadata": {
    "id": "OX5LJZmtS6zU"
   },
   "source": [
    "#### More interactions\n",
    "\n",
    "<figure>\n",
    "<img src=\"https://static.omnipathdb.org/network-overview.png\" alt=\"maxflow\" width=\"800\"/>\n",
    "<figcaption>\n",
    "<strong>Figure 5. Netork data in OmniPath.</strong> (A) Number of network components in each dataset; (B) number of directed, stimulatory and inhibitory interactions; (C) percentage of proteins having at least one interaction within a given dataset.\n",
    "</figcaption>\n",
    "</figure>\n",
    "\n",
    "In the curated dataset (called *omnipath* for historical reasons) every interaction must have literature references and direction, even if those come from different sources. The so called *extra* datasets include further directed interactions without literature references:\n",
    "\n",
    "*   *kinaseextra*: kinase-substrate interactions\n",
    "*   *pathwayextra*: interactions with effect sign (stimulation vs. inhibition)\n",
    "*   *ligrecextra*: ligand-receptor interactions\n",
    "\n",
    "With the *pathwayextra* dataset we get about 35,000 more interactions:"
   ]
  },
  {
   "cell_type": "code",
   "execution_count": null,
   "metadata": {
    "colab": {
     "base_uri": "https://localhost:8080/",
     "height": 505
    },
    "id": "aschYJTtW11f",
    "outputId": "70eb6589-a12d-4f49-f541-927729591b1f"
   },
   "outputs": [],
   "source": [
    "more_pathways = op.interactions.AllInteractions.get(\n",
    "    include = ['omnipath', 'pathwayextra'],\n",
    "    genesymbols = True,\n",
    ")\n",
    "\n",
    "more_pathways"
   ]
  },
  {
   "cell_type": "markdown",
   "metadata": {
    "id": "sKLpYt-7XJO1"
   },
   "source": [
    "Finally, using all protein-protein interaction (PPI, i.e. post-translational interaction) datasets we get roughly 8,000 more interactions. These datasets overlap, hence the small increase in this last step."
   ]
  },
  {
   "cell_type": "code",
   "execution_count": null,
   "metadata": {
    "colab": {
     "base_uri": "https://localhost:8080/",
     "height": 505
    },
    "id": "KMGR7Vc9XI_G",
    "outputId": "4d18f6b0-de62-4eec-eda8-bcba7085e79c"
   },
   "outputs": [],
   "source": [
    "all_pathways = all_pathways = op.interactions.PostTranslational.get(\n",
    "    genesymbols = True,\n",
    ")\n",
    "\n",
    "all_pathways"
   ]
  },
  {
   "cell_type": "markdown",
   "metadata": {
    "id": "GkIHSIbndq4P"
   },
   "source": [
    "#### Less interactions\n",
    "\n",
    "Depending on the application, smaller networks might be prefereable. Obviously, we want to select the most reliable edges. We present two approaches: first, we set a threshold based on `curation_effort` (a combination of number of resources and references); second, we select a few reputable resources and fetch only those from OmniPath."
   ]
  },
  {
   "cell_type": "code",
   "execution_count": null,
   "metadata": {
    "colab": {
     "base_uri": "https://localhost:8080/"
    },
    "id": "Pe1kK0WVeTmq",
    "outputId": "5850e6fd-2411-49f9-b9ac-40e338a5bd33"
   },
   "outputs": [],
   "source": [
    "highly_curated = curated_pathways[curated_pathways.curation_effort > 2]\n",
    "\n",
    "print(f'Selected {highly_curated.shape[0]} interactions out of {curated_pathways.shape[0]}.')"
   ]
  },
  {
   "cell_type": "code",
   "execution_count": null,
   "metadata": {
    "colab": {
     "base_uri": "https://localhost:8080/"
    },
    "id": "HnYVeaDEhEjN",
    "outputId": "760c2f1d-5431-40ec-83b1-a99ab927c28e"
   },
   "outputs": [],
   "source": [
    "curated_core = op.interactions.OmniPath.get(\n",
    "    resources = ['SIGNOR', 'SignaLink3', 'SPIKE', 'CA1'],\n",
    "    genesymbols = True,\n",
    ")\n",
    "\n",
    "print(f'The 4 resources above contain {curated_core.shape[0]} interactions.')"
   ]
  },
  {
   "cell_type": "markdown",
   "metadata": {},
   "source": [
    "> **5.1-Q1. Question:** Check the data frames above: what is the total number of literature references in each? Or the average number of references per interaction?"
   ]
  },
  {
   "cell_type": "code",
   "execution_count": 4,
   "metadata": {
    "ExecuteTime": {
     "end_time": "2023-06-25T17:38:27.359289Z",
     "start_time": "2023-06-25T17:38:27.353535Z"
    }
   },
   "outputs": [],
   "source": [
    "# 5.1-A1: your code here"
   ]
  },
  {
   "cell_type": "markdown",
   "metadata": {
    "ExecuteTime": {
     "end_time": "2023-06-25T17:36:25.223213Z",
     "start_time": "2023-06-25T17:36:25.214059Z"
    }
   },
   "source": [
    "#### Which resources are available?\n",
    "\n",
    "Above we selected 4 resources from the *omnipath* dataset. For each dataset we can see a complete list of the available resources. Importantly, not all resources listed here are fully included in OmniPath or in this particular dataset: from some only certain subsets are included, others are only informative, showing that certain interactions occur also in those resources."
   ]
  },
  {
   "cell_type": "code",
   "execution_count": null,
   "metadata": {
    "colab": {
     "base_uri": "https://localhost:8080/"
    },
    "id": "ZlGjoyx1mvNy",
    "outputId": "b57e5bfe-3109-402e-d0b5-63e68354f19a"
   },
   "outputs": [],
   "source": [
    "op.interactions.OmniPath.resources()"
   ]
  },
  {
   "cell_type": "markdown",
   "metadata": {
    "id": "0ZFeAdV7YiRQ"
   },
   "source": [
    "#### TF-target interactions\n",
    "\n",
    "The TF-target interactions, also called *gene regulatory network* (GRN), represent the regulons of transcription factors, as each TF is connected to the genes it regulates. These are available in OmniPath the same way as we have seen above. Currently 3 TF-target datasets are available:\n",
    "\n",
    "*   *collectri:* **CollecTRI<sup>7</sup>** is a very new, comprehensive resource of gene regulation, covering more than 1,200 TFs, ~68 thousands of interactions and ~40 thousands literature references, all these from 13 original databases and the authors own literature curation\n",
    "*   *dorothea:* **DoRothEA<sup>8</sup>** is a comprehensive resource of gene regulation combining 18 original resources, data extracted from reviews, ChIP-Seq data, TF binding site predictions and gene expression based inference; it classifies interactions into five confidence levels from A to E\n",
    "*   *tf_target:* data from 8 original literature curated resources processed directly by OmniPath\n",
    "\n",
    "As said above, we use the TF regulons to infer TF activities from gene expression. Now we take a direct look at the regulons data, later we will see how Decoupler works with this data for activity inference.\n",
    "\n",
    "When accessing DoRothEA, by default the two highest confidence levels (A and B) are included. Let's see an example where we include also level C."
   ]
  },
  {
   "cell_type": "code",
   "execution_count": null,
   "metadata": {
    "colab": {
     "base_uri": "https://localhost:8080/",
     "height": 574
    },
    "id": "YliTFx0PXBAd",
    "outputId": "92b9e6ac-3218-407a-bc0c-b21a930a24ed"
   },
   "outputs": [],
   "source": [
    "dorothea = op.interactions.Dorothea.get(\n",
    "    dorothea_levels = {'A', 'B', 'C'},\n",
    "    genesymbols = True,\n",
    ")\n",
    "\n",
    "dorothea"
   ]
  },
  {
   "cell_type": "markdown",
   "metadata": {},
   "source": [
    "> **5.1-Q2. Question:** Download also CollecTRI. Check the overlap against DoRothEA. You can do it on the whole datasets, or simply comparing the regulons or a selected transcription factor, or compare the literature references."
   ]
  },
  {
   "cell_type": "code",
   "execution_count": 5,
   "metadata": {
    "ExecuteTime": {
     "end_time": "2023-06-25T17:38:39.828738Z",
     "start_time": "2023-06-25T17:38:39.826464Z"
    }
   },
   "outputs": [],
   "source": [
    "# 5.1-A2: your code here"
   ]
  },
  {
   "cell_type": "markdown",
   "metadata": {
    "id": "p3sZyLPOcU4A"
   },
   "source": [
    "#### Ambiguous directions and effect signs\n",
    "\n",
    "In a small number of cases different resources report different direction or sign (stimulation vs. inhibition) for the same interaction. This can be either a mistake, or often it represents biological reality: the curators focused on different aspects of the interaction and assumed different roles for the interacting partners. This also highlights a limitation of the activity flow representation. Some tools come with even more limitations, as they are not able to handle this ambiguity. To address this issue, we applied a majority vote among resources and references to get a consensus direction and sign. Let's see how successful this attempt was. First count the ambiguous signs in the `curated_pathways` network\n",
    "\n"
   ]
  },
  {
   "cell_type": "code",
   "execution_count": null,
   "metadata": {
    "colab": {
     "base_uri": "https://localhost:8080/"
    },
    "id": "zAqonN74i0ls",
    "outputId": "9b35e8a1-206f-4674-9913-af4e641197a0"
   },
   "outputs": [],
   "source": [
    "curated_pathways[\n",
    "    curated_pathways.is_stimulation &\n",
    "    curated_pathways.is_inhibition\n",
    "].shape[0]"
   ]
  },
  {
   "cell_type": "markdown",
   "metadata": {
    "id": "qb1ezEUIjBkg"
   },
   "source": [
    "Interactions with ambiguous signs constitute only about 1.5 % of this dataset. In the majority vote ties can occur, in this case the interaction remains ambiguous. Let's count the ambiguous signs according to the consensus columns:"
   ]
  },
  {
   "cell_type": "code",
   "execution_count": null,
   "metadata": {
    "colab": {
     "base_uri": "https://localhost:8080/"
    },
    "id": "cYp15okhjA8O",
    "outputId": "1d13e1d3-6dd4-441f-dd66-3dba263ed11f"
   },
   "outputs": [],
   "source": [
    "curated_pathways[\n",
    "    curated_pathways.consensus_stimulation &\n",
    "    curated_pathways.consensus_inhibition\n",
    "].shape[0]"
   ]
  },
  {
   "cell_type": "markdown",
   "metadata": {
    "id": "lPcvgmxVkFNI"
   },
   "source": [
    "About 90 % of the ambiguity has been eliminated, for the remaining there is no perfect solution, one option could be to consider all these inhibitory."
   ]
  },
  {
   "cell_type": "markdown",
   "metadata": {
    "id": "9PBNhXUHUpb1"
   },
   "source": [
    "#### Mouse and rat\n",
    "\n",
    "Experimental data often comes from model animals. The OmniPath web service provides interaction data for mouse and rat, translated by orthologous gene pairs. Not all genes have known orthologues, hence this dataset is much smaller than its human original."
   ]
  },
  {
   "cell_type": "code",
   "execution_count": null,
   "metadata": {
    "colab": {
     "base_uri": "https://localhost:8080/",
     "height": 487
    },
    "id": "OpKkyw1NiHbp",
    "outputId": "44d49fe7-6af0-47f0-df75-6bf5409bfd94"
   },
   "outputs": [],
   "source": [
    "mouse_omnipath = op.interactions.OmniPath.get(\n",
    "    organism = 'mouse',\n",
    "    genesymbols = True,\n",
    ")\n",
    "\n",
    "mouse_omnipath"
   ]
  },
  {
   "cell_type": "markdown",
   "metadata": {
    "id": "OC51AH5tykey"
   },
   "source": [
    "If you work with other model organisms, you can use the [*pypath.utils.homology*](https://pypath.omnipathdb.org/notebooks/manual.html#Homology-translation) module to translate any dataset to your organism of interest."
   ]
  },
  {
   "cell_type": "markdown",
   "metadata": {
    "id": "6kktOP-hmUeJ"
   },
   "source": [
    "### Annotations\n",
    "\n",
    "The *Annotations* database of OmniPath provides details about the **function, localisation, structure,** and many other features of genes and proteins, altogether from a total of 81 resources. First let's see a complete list of these:"
   ]
  },
  {
   "cell_type": "code",
   "execution_count": null,
   "metadata": {
    "colab": {
     "base_uri": "https://localhost:8080/"
    },
    "id": "v-0v0y5vpofr",
    "outputId": "615a2a0e-a41c-45fe-b9ac-ec019163cc90"
   },
   "outputs": [],
   "source": [
    "op.requests.Annotations.resources()"
   ]
  },
  {
   "cell_type": "markdown",
   "metadata": {
    "id": "unF-l6ohp6ve"
   },
   "source": [
    "Now we take a closer look at some of the annotation resources that are useful in the current context.\n",
    "\n",
    "#### Pathway responsive signatures\n",
    "\n",
    "These can be used by Decoupler to infer **activities of pathways** from gene expression data, similarly to the TF activity inference. The signatures in the [**PROGENy**](https://saezlab.github.io/progeny/)<sup>**9**</sup> resource have been compiled from a large number of pathway perturbation transcriptomics datasets. The scores express how the gene responds to the activation of the given pathway."
   ]
  },
  {
   "cell_type": "code",
   "execution_count": null,
   "metadata": {
    "colab": {
     "base_uri": "https://localhost:8080/",
     "height": 423
    },
    "id": "qO9Pgo3KrFZA",
    "outputId": "3da279f6-2d04-43bd-e93b-4033d198a30c"
   },
   "outputs": [],
   "source": [
    "op.requests.Annotations.get(resources = ['PROGENy'], wide = True)"
   ]
  },
  {
   "cell_type": "markdown",
   "metadata": {
    "id": "SWCGvLBLrkPQ"
   },
   "source": [
    "The activites of well known, canonical pathways already represent a biologically interpretable result; moreover, these can be used in causal reasoning to find the most plausible mechanisms behind the condition of interest.\n",
    "\n",
    "A very similar approach goes one more step upstream and attempts to infer **cytokine activities** from expression data, using cytokine responsive signatures from the [**CytoSig**](https://cytosig.ccr.cancer.gov/)**<sup>15</sup>** resource. In our experience, the performance of this method is not satisfying yet."
   ]
  },
  {
   "cell_type": "code",
   "execution_count": null,
   "metadata": {
    "ExecuteTime": {
     "end_time": "2023-06-25T17:31:58.335504Z",
     "start_time": "2023-06-25T17:31:53.065228Z"
    },
    "colab": {
     "base_uri": "https://localhost:8080/",
     "height": 423
    },
    "id": "i_eEYpJms37O",
    "outputId": "3e75c7e6-3f54-4ea4-b8e3-8a86a1d0d813"
   },
   "outputs": [],
   "source": [
    "op.requests.Annotations.get(resources = ['CytoSig'], wide = True)"
   ]
  },
  {
   "cell_type": "markdown",
   "metadata": {
    "id": "mAi-FvczuDid"
   },
   "source": [
    "#### Miscellaneous annotations\n",
    "\n",
    "The rest of the annotation resources are not directly connected to the current topic, but they can be used for a number of supplementary tasks:\n",
    "\n",
    "*   **Filter networks:** in certain situations we are interested in a smaller segment of the network, and we want to filter it, for example, by function or localisation; e.g. select only the intracellular proteins, or proteins expressed in adipose tissue, or proteins of the TGF-beta pathway, etc.\n",
    "*   **Enrichment analysis:** with Decoupler it's really easy to do enrichment analysis, for this the whole [MSigDB](http://www.gsea-msigdb.org/gsea/index.jsp) and several other resources are available in OmniPath\n",
    "*   **Interpretation:** annotations, potentially together with enrichment analysis, might be helpful for the exploration and interpretaton of the results at any stage\n",
    "\n",
    "Showing these features in detail goes beyond our current scope, we only provide here an example where we create a network of the TGF-beta pathway only."
   ]
  },
  {
   "cell_type": "code",
   "execution_count": null,
   "metadata": {
    "colab": {
     "base_uri": "https://localhost:8080/",
     "height": 423
    },
    "id": "A5LQ4HeqvwV6",
    "outputId": "60a584dd-e8c9-444c-b2f9-3ef009814461"
   },
   "outputs": [],
   "source": [
    "slk_pathways = op.requests.Annotations.get(resources = ['SignaLink_pathway'], wide = True)\n",
    "slk_pathways"
   ]
  },
  {
   "cell_type": "code",
   "execution_count": null,
   "metadata": {
    "colab": {
     "base_uri": "https://localhost:8080/"
    },
    "id": "TBw9Aic4v-hJ",
    "outputId": "0c22d5c6-f2b5-4b93-f926-865f0f0bd008"
   },
   "outputs": [],
   "source": [
    "tgfb_uniprots = set(slk_pathways.uniprot[slk_pathways.pathway == 'TGF'])\n",
    "len(tgfb_uniprots)"
   ]
  },
  {
   "cell_type": "code",
   "execution_count": null,
   "metadata": {
    "colab": {
     "base_uri": "https://localhost:8080/",
     "height": 539
    },
    "id": "xWyXTXHiw1OP",
    "outputId": "e7a96331-8531-44a0-8e7a-e61e162f32f1"
   },
   "outputs": [],
   "source": [
    "tgfb_network = curated_pathways[\n",
    "    curated_pathways.source.isin(tgfb_uniprots) &\n",
    "    curated_pathways.target.isin(tgfb_uniprots)\n",
    "]\n",
    "\n",
    "tgfb_network"
   ]
  },
  {
   "cell_type": "markdown",
   "metadata": {
    "id": "Cc5KWzAzTAkH"
   },
   "source": [
    "## From transcriptomics to Transcription Factor (TF) activities with Decoupler\n"
   ]
  },
  {
   "cell_type": "markdown",
   "metadata": {
    "id": "5NP5T5l4qQ_K"
   },
   "source": [
    "Decoupler<sup>2</sup> is a package containing different statistical methods to extract biological activities from omics data within a unified framework. It allows to flexibly test any method with any prior knowledge resource and incorporates methods that take into account the sign and weight. It can be used with any omic, as long as its features can be linked to a biological process based on prior knowledge. For example, in transcriptomics gene sets regulated by a transcription factor, or in phospho-proteomics phosphosites that are targeted by a kinase.\n",
    "\n",
    "\n",
    "\n",
    "<figure>\n",
    "<img src=\"https://github.com/saezlab/PerMedCoE_tools_virtual_course_2023/raw/main/assets/decoupler.png\" alt=\"maxflow\" width=\"600\"/>\n",
    "<figcaption>\n",
    "<strong>Figure 6. Decoupler methods and workflow.</strong> Decoupler combines omics data and database knowledge to infer biological activities by one or more of its 12 statistical methods.\n",
    "</figcaption>\n",
    "</figure>\n",
    "\n",
    "Importing Decoupler takes unusually long (approx. 1 min), since it uses [Numba](https://numba.pydata.org/) just-in-time (JIT) compiler to accelerate the functions, and the compilation happens at import time:"
   ]
  },
  {
   "cell_type": "code",
   "execution_count": null,
   "metadata": {
    "id": "a0_vMXsYcJVz"
   },
   "outputs": [],
   "source": [
    "import decoupler as dc\n",
    "import pandas as pd"
   ]
  },
  {
   "cell_type": "markdown",
   "metadata": {
    "id": "5zFALYbK2qp8"
   },
   "source": [
    "### How Decoupler accesses prior knowledge?\n",
    "\n",
    "Decoupler has its own submodule to access OmniPath, and it even has dedicated functions for accessing DoRothEA and PROGENy. It will soon have a similar shortcut for CollecTRI, it's just happens to be so new that we only finished working on it two weeks before this course. Let's see what kind of tables Decoupler creates from these resources. These tables have slightly different column layout than the ones we get directly from OmniPath, to make them suitable input for Decoupler's activity and enrichment inference methods. Unlike the `omnipath` module, `decoupler` uses DoRothEA confidence levels A-C by default. The letters are mapped to numeric weights in order to make use of them in the activity estimation:"
   ]
  },
  {
   "cell_type": "code",
   "execution_count": null,
   "metadata": {
    "colab": {
     "base_uri": "https://localhost:8080/",
     "height": 423
    },
    "id": "BbvNEb683tCi",
    "outputId": "88478196-c576-426b-8e61-c5fe6ac3f4b0"
   },
   "outputs": [],
   "source": [
    "dorothea_abc = dc.omnip.get_dorothea(levels = ('A', 'B', 'C'))\n",
    "\n",
    "dorothea_abc"
   ]
  },
  {
   "cell_type": "markdown",
   "metadata": {
    "id": "hTXtbs9V4yjd"
   },
   "source": [
    "PROGENy too has its dedicated function. This function is able to use [*pypath.utils.homology*](https://pypath.omnipathdb.org/notebooks/manual.html#Homology-translation) in the background to convert the data to mouse or other organisms by gene orthology. We would be glad to demonstrate it here, but it requires the download of a large amount of data from UniProt and Ensembl, and would take too long (longer than 10 minutes at the first run, much shorter at subsequent runs as the data is already cached).\n",
    "\n",
    "---\n",
    "\n"
   ]
  },
  {
   "cell_type": "code",
   "execution_count": null,
   "metadata": {
    "colab": {
     "base_uri": "https://localhost:8080/",
     "height": 423
    },
    "id": "WkRKdtxT4x9D",
    "outputId": "604ec414-493e-47d2-d835-c3f293b2174b"
   },
   "outputs": [],
   "source": [
    "dc.omnip.get_progeny()"
   ]
  },
  {
   "cell_type": "markdown",
   "metadata": {
    "id": "IL8ognslAeja"
   },
   "source": [
    "The generic function `get_resource` is able to download any resource from OmniPath; another generic function `translate_net` translates any data frame to the desired organism, but due to the above mentioned reasons, we don't recommend to try it now."
   ]
  },
  {
   "cell_type": "code",
   "execution_count": null,
   "metadata": {
    "colab": {
     "base_uri": "https://localhost:8080/",
     "height": 423
    },
    "id": "Zy51WxNNApI6",
    "outputId": "1b66849f-9185-4b71-c97f-806faecf059f"
   },
   "outputs": [],
   "source": [
    "dc.omnip.get_resource('SignaLink_pathway')"
   ]
  },
  {
   "cell_type": "markdown",
   "metadata": {
    "id": "e4pXYeEg3t_U"
   },
   "source": [
    "### TF activity inference\n",
    "\n",
    "Here, we will see how to **use Decoupler to estimate transcription factor activities from a contrast experiment (disease vs healthy)** from which we have bulk RNA-Seq data. The data consists of 6 samples of hepatic stellate cells (HSC) where three of them were activated by the cytokine Transforming Growth Factor (TGF-β) (available at GEO [here](https://www.ncbi.nlm.nih.gov/geo/query/acc.cgi?acc=GSE151251)).\n",
    "\n",
    "**For simplicity, we will skip the raw data processing part and we will assume that we have already done the differential expression analysis<sup>10</sup> between stimulated and control cells.**\n",
    "\n",
    "> NOTE: The content of this tutorial is based on [Decoupler's tutorial on bulk data](https://decoupler-py.readthedocs.io/en/latest/notebooks/bulk.html). If you are interested in running the differential analysis from yourself, we uploaded the part of the tutorial related to transcriptomics data processing and TF estimation in this Google Colab notebook: https://colab.research.google.com/drive/13Z-_S-hT0s4E4J7Iuv6vr58aCkQF-A4g\n"
   ]
  },
  {
   "cell_type": "code",
   "execution_count": null,
   "metadata": {
    "colab": {
     "base_uri": "https://localhost:8080/",
     "height": 455
    },
    "id": "heIyr2sc0Oeh",
    "outputId": "ffeab43e-55ad-463f-d0c7-ae867ecad435"
   },
   "outputs": [],
   "source": [
    "df_deseq2 = pd.read_csv('dataset/deseq2_stimulated_vs_control.csv').set_index('GeneName')\n",
    "df_deseq2"
   ]
  },
  {
   "cell_type": "code",
   "execution_count": null,
   "metadata": {
    "colab": {
     "base_uri": "https://localhost:8080/",
     "height": 500
    },
    "id": "s2jph2JOaDpK",
    "outputId": "9b735ea6-2cf2-4768-ae76-d4169eb8a409"
   },
   "outputs": [],
   "source": [
    "dc.plot_volcano_df(df_deseq2, x='log2FoldChange', y='padj', top=20)"
   ]
  },
  {
   "cell_type": "markdown",
   "metadata": {
    "id": "rLsZekWAJrhR"
   },
   "source": [
    "To estimate TF activities, first we have to create a matrix of samples vs. features with our variable of interest."
   ]
  },
  {
   "cell_type": "code",
   "execution_count": null,
   "metadata": {
    "colab": {
     "base_uri": "https://localhost:8080/",
     "height": 191
    },
    "id": "jjWkjhtEIpTE",
    "outputId": "8bca1d74-8dae-4d40-b49d-75210947ef70"
   },
   "outputs": [],
   "source": [
    "de_matrix = df_deseq2.filter(['log2FoldChange']).transpose().set_index([['TGFB']])\n",
    "de_matrix"
   ]
  },
  {
   "cell_type": "markdown",
   "metadata": {
    "id": "_A8pyzy9C8uj"
   },
   "source": [
    "To estimate TF activities, we use the DoRothEA regulons retrieved in the previous section (`dorothea_abc`) and our differential expression data (`df_deseq2`) with Decoupler's *weighted mean* (`run_wmean`) method. We can also point Decoupler to the columns to use in the prior knowledge data frame, though in this example the column names are already the defaults."
   ]
  },
  {
   "cell_type": "code",
   "execution_count": null,
   "metadata": {
    "colab": {
     "base_uri": "https://localhost:8080/"
    },
    "id": "iOZ1Twj4EKMw",
    "outputId": "f71b1650-739a-4380-f76d-4f7808673e8e"
   },
   "outputs": [],
   "source": [
    "tf_activities = dc.run_wmean(\n",
    "    mat=de_matrix,\n",
    "    net=dorothea_abc,\n",
    "    source='source',\n",
    "    target='target',\n",
    "    weight='weight',\n",
    "    verbose=True,\n",
    ")\n",
    "\n",
    "tf_activities"
   ]
  },
  {
   "cell_type": "markdown",
   "metadata": {
    "id": "FKUDd9oABeID"
   },
   "source": [
    "The results are better readable if the TFs with the highest activity changes are visualised on a barplot. The call above returned a tuple of four data frames, which contain the raw weighted mean scores, their normalised and  corrected versions, and in the last we find the p-values. Here we plot the normalised scores:"
   ]
  },
  {
   "cell_type": "code",
   "execution_count": null,
   "metadata": {
    "colab": {
     "base_uri": "https://localhost:8080/",
     "height": 465
    },
    "id": "QlWf2ADPCFYS",
    "outputId": "fc531cec-3e5c-4342-c74f-e8119025c142"
   },
   "outputs": [],
   "source": [
    "dc.plot_barplot(tf_activities[1], 'TGFB', top = 25, vertical = True)"
   ]
  },
  {
   "cell_type": "markdown",
   "metadata": {
    "id": "spcHp65IIr3n"
   },
   "source": [
    "SRF is the transcription factor which shows the highest activity increment in response to TGF-beta stimulation. It's interesting to see which genes are its targets and how their expression change. Below we see that most of the targets are higher expressed in the TGF-beta samples. The three distinct values on the x-axis correspond to DoRothEA's A, B and C confidence levels."
   ]
  },
  {
   "cell_type": "code",
   "execution_count": null,
   "metadata": {
    "colab": {
     "base_uri": "https://localhost:8080/",
     "height": 487
    },
    "id": "tPYiSVc_JzZV",
    "outputId": "59c984cc-bfb6-4850-8255-37a01c9633d7"
   },
   "outputs": [],
   "source": [
    "dc.plot_targets(df_deseq2, stat = 'log2FoldChange', source_name = 'SRF', net = dorothea_abc, top = 15)"
   ]
  },
  {
   "cell_type": "markdown",
   "metadata": {
    "id": "1ZTOoRXdNuwL"
   },
   "source": [
    "Still looking at one interesting TF, we can also visualise the targets on a volcano plot. The first two lines only transpose and rename the two columns that we use here, in order to create suitable input for the plotting function."
   ]
  },
  {
   "cell_type": "code",
   "execution_count": null,
   "metadata": {
    "colab": {
     "base_uri": "https://localhost:8080/",
     "height": 522
    },
    "id": "2I9dHTctN8vM",
    "outputId": "a38fab3e-d5b4-45e1-d24f-b907ea16c8cd"
   },
   "outputs": [],
   "source": [
    "logfcs = df_deseq2[['log2FoldChange']].T.rename(index = {'log2FoldChange': 'TGFB'})\n",
    "pvals = df_deseq2[['padj']].T.rename(index = {'padj': 'TGFB'})\n",
    "\n",
    "dc.plot_volcano(logfcs, pvals, 'TGFB', name = 'SRF', net = dorothea_abc, top = 10, sign_thr = .05, lFCs_thr = .5)"
   ]
  },
  {
   "cell_type": "markdown",
   "metadata": {},
   "source": [
    "> **6.2-Q1. Question**: Redo the analysis but using other enrichment method from Decoupler (e.g., the consensus method). Do the results change significantly after using another enrichment method?"
   ]
  },
  {
   "cell_type": "code",
   "execution_count": null,
   "metadata": {},
   "outputs": [],
   "source": [
    "# 6.2-A1: Your code here"
   ]
  },
  {
   "cell_type": "markdown",
   "metadata": {
    "id": "WL9rtYWNPrJb"
   },
   "source": [
    "### Pathway activities\n",
    "\n",
    "Above we introduced PROGENy<sup>9</sup>, a collection of transcriptional signatures of canonical pathways. The same way as with TF activities, if a pathway is activated, we expect the expression of its signature genes to go up or down, depending on the sign of the relationship. The only difference is that here the relationships between pathways and genes are indirect, each pathway has a large number of affected genes, all with continuous scores that express the strenght of the relationship. In the example below, we restrict the analysis to the top 300 signature genes with the highest scores.\n",
    "\n"
   ]
  },
  {
   "cell_type": "code",
   "execution_count": null,
   "metadata": {
    "colab": {
     "base_uri": "https://localhost:8080/",
     "height": 498
    },
    "id": "3KsL6k9PTAYP",
    "outputId": "f91c40bd-350b-4702-a212-89762daa4544"
   },
   "outputs": [],
   "source": [
    "progeny300 = dc.get_progeny(top = 300)\n",
    "\n",
    "# Infer pathway activities with consensus\n",
    "pathway_acts = dc.run_wmean(mat = de_matrix, net = progeny300)\n",
    "\n",
    "dc.plot_barplot(pathway_acts[1], 'TGFB', top = 25, vertical = False)"
   ]
  },
  {
   "cell_type": "markdown",
   "metadata": {
    "id": "6MkAuJerUIN4"
   },
   "source": [
    "Not surprisingly, the inferred activity change of the TGF-beta pathway is by far the highest. We can expect that the genes with positive weights in the signature are upregulated, while the ones with negative weights are downregulated in their expression. Indeed, the few ones that go against this expectation are shown in blue below:"
   ]
  },
  {
   "cell_type": "code",
   "execution_count": null,
   "metadata": {
    "colab": {
     "base_uri": "https://localhost:8080/",
     "height": 487
    },
    "id": "1nnYMTXXWh5f",
    "outputId": "ca7e5abc-d302-49fe-bf9d-f71df071bd6a"
   },
   "outputs": [],
   "source": [
    "dc.plot_targets(df_deseq2, stat = 'log2FoldChange', source_name = 'TGFB', net = progeny300)"
   ]
  },
  {
   "cell_type": "markdown",
   "metadata": {},
   "source": [
    "> **6.3-Q1. Question**: Plot now the genes for the JAK-STAT pathway. What does this plot show? is this consistent with JAK-STAT being downregulated?"
   ]
  },
  {
   "cell_type": "code",
   "execution_count": null,
   "metadata": {},
   "outputs": [],
   "source": [
    "# 6.3-Q1. Your code here"
   ]
  },
  {
   "cell_type": "markdown",
   "metadata": {},
   "source": [
    "> **6.3-Q2. Question**: Do the same with a pathway that does not exhibit strong activation or inhibition. How does the plot differ now? Explain why the association is weak."
   ]
  },
  {
   "cell_type": "code",
   "execution_count": null,
   "metadata": {},
   "outputs": [],
   "source": [
    "# 6.3-Q2. Your answer here"
   ]
  },
  {
   "cell_type": "markdown",
   "metadata": {
    "id": "pGhChyTB40Q7"
   },
   "source": [
    "### Single-cell transcriptomics\n",
    "\n",
    "Decoupler works seamlessly with single-cell data: the first argument `mat` for each method can be an [`AnnData`](https://anndata.readthedocs.io/en/latest/)<sup>11</sup> object the object used for scRNA-Seq data processing and analysis by [`Scanpy`](https://scanpy.readthedocs.io/en/stable/)<sup>12</sup>, the core component of the [scverse framework](https://scverse.org/)<sup>13</sup>. Enrichment and activities are calculated for each sample (droplet). You can see in the [Decoupler tutorials](https://decoupler-py.readthedocs.io/en/stable/notebooks/dorothea.html) how easy this procedure is. With scRNA data the coverage is typically lower than in bulk RNA-Seq, however [our analysis has shown](https://genomebiology.biomedcentral.com/articles/10.1186/s13059-020-1949-z)<sup>14</sup> that the activity inference still works well."
   ]
  },
  {
   "cell_type": "markdown",
   "metadata": {
    "id": "_fTktW4JrH_j"
   },
   "source": [
    "## Finding causal signaling networks from perturbations to TFs with CARNIVAL\n",
    "\n"
   ]
  },
  {
   "cell_type": "markdown",
   "metadata": {
    "id": "9zfXkTdSqYtk"
   },
   "source": [
    "We have observed how we can move from gene expression data (consisting of approximately 20,000 genes) to transcription factor activities (about 300 genes). This process can provide us with a better comprehension of the transcriptional program that was stimulated by the intracellular signaling response of a cell to a specific perturbation.\n",
    "\n",
    "Nonetheless, to gain a deeper understanding of why a particular transcriptional program was prompted by a cell, we must connect the perturbation to transcription factors. This approach will enable us to explore different questions related to signaling, such as why two cells respond differently to the same drug. Additionally, we can identify potential targets that may be used for new therapies.\n",
    "\n",
    "\n",
    "This process is usually systematically done by checking bibliography, gene functions and networks to identify potential targets that can explain the changes observed in our samples. Instead of doing this process in a manual fashion, we will leverage the power of Omnipath CARNIVAL to automatically explore this for us. \n"
   ]
  },
  {
   "cell_type": "markdown",
   "metadata": {
    "id": "t7WTHUgIsy97"
   },
   "source": [
    "### CARNIVAL with Python\n",
    "\n",
    "\n"
   ]
  },
  {
   "cell_type": "markdown",
   "metadata": {
    "id": "FLxDT8wPgrgE"
   },
   "source": [
    "<figure>\n",
    "<img src=\"https://github.com/saezlab/PerMedCoE_tools_virtual_course_2023/raw/main/assets/carnival_graphical_abstract.png?\" alt=\"carnival\" width=\"800\"/>\n",
    "<figcaption>\n",
    "<strong>Figure 7. CARNIVAL workflow.</strong> CARNIVAL uses database knowledge of molecular interactions (network) to find subnetworks that give the most plausible explanation of the observed molecular activities, and to predict the activities of other related components.\n",
    "</figcaption>\n",
    "</figure>\n",
    "\n",
    "\n",
    "Carnival was originally implemented in R using the IBM CPLEX solver. For this course, we will use a new re-implementation of Carnival in Python using **CORNETO**, *a new experimental library* we are developing for modelling biological network inference problems in Python with support for many solvers. The only important thing to know at this point is that **we will run CARNIVAL using a CORNETO implementation**. For a better understanding about carnival and corneto, please see `6.1 Advanced Carnival` at the end of the notebook. \n",
    "\n",
    "We first need to import corneto and check that everything is ok."
   ]
  },
  {
   "cell_type": "code",
   "execution_count": null,
   "metadata": {
    "colab": {
     "base_uri": "https://localhost:8080/"
    },
    "id": "j9yQO08NXj3T",
    "outputId": "aa286321-9fee-47be-8352-6e28a45545a1"
   },
   "outputs": [],
   "source": [
    "import corneto as cn\n",
    "cn.info()"
   ]
  },
  {
   "cell_type": "markdown",
   "metadata": {
    "id": "cUOSblA3q5_0"
   },
   "source": [
    "The output shows that we have corneto installed with [CVXPY](https://www.cvxpy.org/) as a backend, a Python modeling library for convex optimization. We also see that we have many solvers installed. Both CVXPY and solvers are needed to translate from a CARNIVAL problem to an optimal solution, a task that is not easy for large networks. \n",
    "\n",
    "We don't need to worry about this, we will only use the `carnival` method implemented in CORNETO. "
   ]
  },
  {
   "cell_type": "markdown",
   "metadata": {
    "id": "WPVF6_bVw9WI"
   },
   "source": [
    "### Understanding CARNIVAL: Causal reasoning about changes in activity\n"
   ]
  },
  {
   "cell_type": "markdown",
   "metadata": {
    "id": "w9ggdlA_kLwC"
   },
   "source": [
    "Carnival infers a network from the footprint of a perturbation (gene expression changes) to the signaling pathway that links the perturbation with the TFs that explain the observed changes in gene expression. For this, it exploits the information of a PKN containing known signed interactions between signaling proteins, and it searches across the space of potential networks that can lead to the observed changes in TF activity. The following figure shows the simple rules to infer changes in activity of unmeasured proteins:\n",
    "\n",
    "<figure>\n",
    "<img src=\"https://github.com/saezlab/PerMedCoE_tools_virtual_course_2023/raw/main/assets/carnival-causal-reasoning.png\" alt=\"maxflow\" width=\"600\"/>\n",
    "<figcaption>\n",
    "<strong>Figure 8. The formal logic of causal reasoning.</strong>\n",
    "</figcaption>\n",
    "</figure>\n",
    "\n",
    "For example, if we have in our prior knowledge that `A` activates `B`, and from a contrast experiment we have measured that `B` increases . Note that one assumption is that our prior knowledge is complete and correct. However, this assumption is not different from what we do manually in practice: you observe some changes in some genes, you check the bibliography to see which are the key proteins that can explain those changes. Instead of doing this manually and case by case, CARNIVAL does it for you, integrating many measurements at the same time and finding the most parsimonious network."
   ]
  },
  {
   "cell_type": "markdown",
   "metadata": {
    "id": "-_uFAgdaebA_"
   },
   "source": [
    "CORNETO includes some useful methods to import and create prior knowledge networks that are ready to be processed by CARNIVAL. Let's see how to create a small example through the `Graph` interface. The method `from_sif_tuples` allows us to parse a list of tuples `(A, 1, B)` which indicates a direct activation edge from A to B, or `(A, -1, B)` which indicates a direct inhibition from A to B."
   ]
  },
  {
   "cell_type": "code",
   "execution_count": null,
   "metadata": {
    "colab": {
     "base_uri": "https://localhost:8080/",
     "height": 272
    },
    "id": "3wnwYRtYxzaY",
    "outputId": "f64c1147-11bd-4fcf-ac41-2b711f1b18bc"
   },
   "outputs": [],
   "source": [
    "G = cn.Graph.from_sif_tuples(\n",
    "    [\n",
    "        ('I1',  1, 'N1'), # I1 activates N1\n",
    "        ('N1',  1, 'M1'), # N1 activates M1\n",
    "        ('N1',  1, 'M2'), # N1 activaes M2\n",
    "        ('I2', -1, 'N2'), # I2 inhibits N2\n",
    "        ('N2', -1, 'M2'), # N2 inhibits M2\n",
    "        ('N2', -1, 'M1')  # N2 inhibits M1\n",
    "    ]\n",
    ")\n",
    "G.plot()"
   ]
  },
  {
   "cell_type": "markdown",
   "metadata": {
    "id": "skv3H7lgA-4X"
   },
   "source": [
    "> **6.2-Q1. Question**: assume that in the network above, I1 and I2 are receptors, and M1 and M2 are TFs. We observe that M1=-1 (downregulated activity). Can you find a signal from a receptor to M1 that explains the downregulation in activity of M1?  "
   ]
  },
  {
   "cell_type": "markdown",
   "metadata": {
    "id": "TWCf2ujRFstu"
   },
   "source": [
    "> 6.2-A1: Your answer here"
   ]
  },
  {
   "cell_type": "markdown",
   "metadata": {
    "id": "qrGsmR3Mrxky"
   },
   "source": [
    "Now, we are going to run CARNIVAL on this small network. Let's assume that I1 and I2 are the perturbed input nodes (e.g receptors), and M1 and M2 are the measured nodes (e.g. Transcription Factors). For simplicity let's assume also that I1 and I2 are activated, as well as for M1 and M2:"
   ]
  },
  {
   "cell_type": "code",
   "execution_count": null,
   "metadata": {
    "id": "TkcMITotisx9"
   },
   "outputs": [],
   "source": [
    "from corneto.methods import runVanillaCarnival\n",
    "\n",
    "# These are the measurements (e.g. TF activity from Decoupler).\n",
    "# Positive values correspond to up-regulation and negative values\n",
    "# with down-regulation. The bigger the absolute value is, \n",
    "# the bigger the importance is\n",
    "measurements = {'M1': 1, 'M2': 1}\n",
    "\n",
    "# Perturbations are the upstream nodes were the signal originates on, \n",
    "# for example, ligands or receptors.\n",
    "perturbations = {'I1': 1, 'I2': 1}\n",
    "\n",
    "# We run the `standard` carnival problem. This interface is similar\n",
    "# to the old R function https://saezlab.github.io/CARNIVAL/reference/runVanillaCarnival.html\n",
    "p, Gf = runVanillaCarnival(perturbations, measurements, G)"
   ]
  },
  {
   "cell_type": "markdown",
   "metadata": {
    "id": "P2_EtjZ3jm0x"
   },
   "source": [
    "The method `runVanillaCarnival` returns a CORNETO problem and an extended graph that encodes the carnival problem. What is important for now is to know that the problem contains the values for the edges and vertices of the carnival solution. We can plot the solution easily with:"
   ]
  },
  {
   "cell_type": "code",
   "execution_count": null,
   "metadata": {
    "colab": {
     "base_uri": "https://localhost:8080/",
     "height": 272
    },
    "id": "1TyQsVmbj35i",
    "outputId": "883bce22-841b-4428-a5cb-6bcdae56dbae"
   },
   "outputs": [],
   "source": [
    "G.to_graphviz(problem=p)"
   ]
  },
  {
   "cell_type": "markdown",
   "metadata": {
    "id": "ATGfqWc6liO_"
   },
   "source": [
    "### Manipulating the CARNIVAL problem with CORNETO"
   ]
  },
  {
   "cell_type": "markdown",
   "metadata": {
    "id": "Chv6PKCxUf6T"
   },
   "source": [
    "\n",
    "After running `runVanillaCarnival` method, we obtain a graph and a problem. The graph is similar to our PKN but with some extra dummy nodes required for CARNIVAL. The `problem` is more interesting. It contains the variables for edges and nodes together with the optimal values found by the solver, although this process was transparent to you.\n",
    "\n",
    "The problem object has a method `solve` to directly solve the carnival problem. We can pass the argument `verbosity=1` to see what happens behind:"
   ]
  },
  {
   "cell_type": "code",
   "execution_count": null,
   "metadata": {
    "colab": {
     "base_uri": "https://localhost:8080/"
    },
    "id": "YX6YbwtIskSh",
    "outputId": "dc51ece3-383e-466f-9034-8db00567a0d5"
   },
   "outputs": [],
   "source": [
    "p, Gf = runVanillaCarnival(perturbations, measurements, G)\n",
    "p.solve(verbosity=1)"
   ]
  },
  {
   "cell_type": "markdown",
   "metadata": {
    "id": "8CmEM4PCsn3r"
   },
   "source": [
    "We see that the problem was processed by `CVXPY` and the solver `GLPK_MI` was used to solve the CARNIVAL problem. Through `problem`, we can manipulate things of the original CARINVAL and re-run to find alternative solutions. This is interesting since we can add extra knowledge to our problem and see what happens, to investigate new hypothesis. \n",
    "\n",
    "Here is a small example to have a taste about why this is useful. For example, what happens if we know that N1 is upregulated?"
   ]
  },
  {
   "cell_type": "code",
   "execution_count": null,
   "metadata": {
    "id": "0R7-L0gcmGiH"
   },
   "outputs": [],
   "source": [
    "# Example: we say that N1 has to be active\n",
    "p1 = set_problem_value(p, Gf, 'N1', 1)\n",
    "p1.solve();"
   ]
  },
  {
   "cell_type": "code",
   "execution_count": null,
   "metadata": {
    "colab": {
     "base_uri": "https://localhost:8080/",
     "height": 272
    },
    "id": "yCdw2IPsmrRn",
    "outputId": "d128e415-24c1-4669-aa41-2f1f28e3696c"
   },
   "outputs": [],
   "source": [
    "# An alternative explanation\n",
    "G.to_graphviz(problem=p1)"
   ]
  },
  {
   "cell_type": "markdown",
   "metadata": {
    "id": "6hsQmIimxInI"
   },
   "source": [
    "### From perturbations to TFs: a larger example"
   ]
  },
  {
   "cell_type": "markdown",
   "metadata": {
    "id": "la_T9GHzjpXm"
   },
   "source": [
    "We will import a Prior Knowledge Network of a toy signaling model (LiverDREAM) in a Signed Interaction Format (SIF). The SIF format specifies interactions using three values per line. A line `A, 1, B` indicates a direct edge (activation) from `A` to `B`, whereas a line `A, -1, B` indicates an inhibitory interaction."
   ]
  },
  {
   "cell_type": "code",
   "execution_count": null,
   "metadata": {
    "colab": {
     "base_uri": "https://localhost:8080/"
    },
    "id": "ZCvvoY_mlM_m",
    "outputId": "afa2cbc3-f328-4c0f-8fad-b3ea2674383d"
   },
   "outputs": [],
   "source": [
    "!cat dataset/PKN-LiverDREAM.sif.txt"
   ]
  },
  {
   "cell_type": "code",
   "execution_count": null,
   "metadata": {
    "colab": {
     "base_uri": "https://localhost:8080/",
     "height": 1000
    },
    "id": "rZsumGcRjWel",
    "outputId": "24dd9df0-ab14-4866-81ef-18555b1e9ded"
   },
   "outputs": [],
   "source": [
    "G = cn.Graph.from_sif('dataset/PKN-LiverDREAM.sif.txt')\n",
    "G.plot()"
   ]
  },
  {
   "cell_type": "markdown",
   "metadata": {
    "id": "wsRV7kaZoPdN"
   },
   "source": [
    "This network can represent a context-inespecific signaling network of a mammalian cell. Imagine now that we run an experiment where we have control cells and cells stimulated with TGF-α (vertex `tgfa` in the graph). We then compare the activity of some proteins (e.g with (phospho)proteomics) and we observe that `erk12` and `p38` show more activity after treatment.\n",
    "\n",
    " Let's see how to model this with CARNIVAL. We need to define the inputs (in this case, activation of TGF-α) and the outputs (ERK12=+1 and p38=+1):"
   ]
  },
  {
   "cell_type": "code",
   "execution_count": null,
   "metadata": {
    "id": "fiMY7hwioN-e"
   },
   "outputs": [],
   "source": [
    "perturbations = {'tgfa': 1}\n",
    "measurements = {'erk12': 1, 'p38': 1}\n",
    "problem, carnival_graph = cn.methods.runVanillaCarnival(perturbations, measurements, G)"
   ]
  },
  {
   "cell_type": "code",
   "execution_count": null,
   "metadata": {
    "colab": {
     "base_uri": "https://localhost:8080/",
     "height": 1000
    },
    "id": "EdQDlLSdqJmf",
    "outputId": "834ffcae-5841-434d-89ce-fe2f152df889"
   },
   "outputs": [],
   "source": [
    "G.to_graphviz(problem=problem)"
   ]
  },
  {
   "cell_type": "markdown",
   "metadata": {
    "id": "EkA2JNY_tpq2"
   },
   "source": [
    "### Assignments"
   ]
  },
  {
   "cell_type": "markdown",
   "metadata": {
    "id": "5ziwhp9Rt-Ge"
   },
   "source": [
    "#### A1\n",
    "\n",
    "We stimulate the cell now with Insuline-like growth factor 1 (igf1) instead of TGF-α. Assume that the measurements are the same as before. Obtain the corresponding network.\n",
    "\n",
    "> Question: which color (red=+1/white=0/blue=-1) has the `Ras` protein?"
   ]
  },
  {
   "cell_type": "code",
   "execution_count": null,
   "metadata": {
    "id": "3fKWkrh2zJPG"
   },
   "outputs": [],
   "source": [
    "# your code here\n"
   ]
  },
  {
   "cell_type": "markdown",
   "metadata": {
    "id": "676_bxRC0zEW"
   },
   "source": [
    "#### A2\n",
    "\n",
    "Now, let's assume that cells are only stimulated with TGF-a, and you observe that `raf1` is inhibited and `erk12` activated. How the network looks like in this case? Plot the result.\n",
    "\n",
    "> Question: which color has the `raf1` protein? and `erk12`?"
   ]
  },
  {
   "cell_type": "code",
   "execution_count": null,
   "metadata": {
    "id": "Fl377PdU04am"
   },
   "outputs": [],
   "source": [
    "# your code here"
   ]
  },
  {
   "cell_type": "markdown",
   "metadata": {
    "id": "M5zpJBwftZeg"
   },
   "source": [
    "#### A3\n",
    "\n",
    "Take again the 4.A1 example, where `igf1` is the perturbation (activated), and `erk12` and `p38` the measurements (activated). However, this time assume that you have knowledge that `pi3k` is activated and part of the solution. Recompute the solution in this case. What is the color of `ras` protein?\n",
    "\n",
    "> Hint: use the `set_problem_value` method we saw at the beginning of Sec. 4.3 to force `pi3k` to take the value 1. Note that this is different as adding `pi3k` as a measurement."
   ]
  },
  {
   "cell_type": "code",
   "execution_count": null,
   "metadata": {
    "id": "GqDHVTuLtgOi"
   },
   "outputs": [],
   "source": [
    "# your code here"
   ]
  },
  {
   "cell_type": "markdown",
   "metadata": {},
   "source": [
    "#### A4\n",
    "\n",
    "Create your own example to experiment with CARNIVAL. Create a SIF file (a text file) with three columns separated by tabs, where column 1 is the source node, column 2 the interaction (-1, or 1) and column 3 the target node. You can use `cn.Graph.from_sif` method before. Then select some nodes as inputs and some others as outputs, run carnival and plot the result.\n"
   ]
  },
  {
   "cell_type": "code",
   "execution_count": null,
   "metadata": {},
   "outputs": [],
   "source": [
    "# your code here"
   ]
  },
  {
   "cell_type": "markdown",
   "metadata": {
    "id": "8j9H637NOqbF"
   },
   "source": [
    "## Advanced topics (Optional)"
   ]
  },
  {
   "cell_type": "markdown",
   "metadata": {
    "id": "kOBYaaB6RC1j"
   },
   "source": [
    "### Advanced CARNIVAL with CORNETO"
   ]
  },
  {
   "cell_type": "markdown",
   "metadata": {
    "id": "7Tcn19D8q3Ia"
   },
   "source": [
    "#### Constrained optimization with CORNETO\n",
    "\n",
    "CORNETO is a specialized library for creating and solving network problems for biology. These type of problems usually require solving discrete/continuous optimization functions. For this, CORNETO relies on different libraries, such as CVXPY and PICOS, for converting a mathematical specification into an optimization problem that can be solved using specialized software such as Gurobi, CPLEX, CBC, SCIP, and other solvers. One of the features CORNETO provides is an abstraction layer (so different backends like CVXPY/PICOS can be used) to transform a high level specification problem into a convex/non-convex constrained optimization problem. To understand better this, we will see how to use CORNETO as an interface to define constrained optimization problems."
   ]
  },
  {
   "cell_type": "code",
   "execution_count": null,
   "metadata": {
    "colab": {
     "base_uri": "https://localhost:8080/"
    },
    "id": "CO8fQ0twrXwa",
    "outputId": "d1c86857-3612-457e-a859-cbb414950c6f"
   },
   "outputs": [],
   "source": [
    "import corneto as cn\n",
    "cn.info()"
   ]
  },
  {
   "cell_type": "code",
   "execution_count": null,
   "metadata": {
    "id": "KF0GXOiusyuz"
   },
   "outputs": [],
   "source": [
    "solver='SCIP'"
   ]
  },
  {
   "cell_type": "markdown",
   "metadata": {
    "id": "9bw66TWC7Knk"
   },
   "source": [
    "##### The Knapsack problem\n",
    "\n",
    "This is a typical combinatorial optimization problem with constraints. The goal is to put in your backpack as much objects as possible without exceeding the total capacity of your backback.\n",
    "\n",
    "##### Example 1\n",
    "\n",
    "<figure>\n",
    "<img src=\"https://github.com/saezlab/PerMedCoE_tools_virtual_course_2023/raw/main/assets/knapsack-wikipedia.png\" alt=\"knapsack\" width=\"400\"/>\n",
    "<figcaption>\n",
    "<strong>Figure 10. Illustration of the Knapsack problem.</strong>\n",
    "</figcaption>\n",
    "</figure>"
   ]
  },
  {
   "cell_type": "code",
   "execution_count": null,
   "metadata": {
    "colab": {
     "base_uri": "https://localhost:8080/"
    },
    "id": "ykn2Rwi674cc",
    "outputId": "f2a867c3-7e25-40d1-ec84-dbc310b57cfd"
   },
   "outputs": [],
   "source": [
    "obj1 = cn.K.Variable('obj1', 1, vartype=cn.VarType.BINARY)\n",
    "obj2 = cn.K.Variable('obj2', 1, vartype=cn.VarType.BINARY)\n",
    "obj3 = cn.K.Variable('obj3', 1, vartype=cn.VarType.BINARY)\n",
    "obj4 = cn.K.Variable('obj4', 1, vartype=cn.VarType.BINARY)\n",
    "obj5 = cn.K.Variable('obj5', 1, vartype=cn.VarType.BINARY)\n",
    "\n",
    "total_value = 4*obj1 + 2*obj2 + 10*obj3 + 1*obj4 + 2*obj5\n",
    "weight = 12*obj1 + 1*obj2 + 4*obj3 + 1*obj4 + 2*obj5\n",
    "\n",
    "total_value"
   ]
  },
  {
   "cell_type": "code",
   "execution_count": null,
   "metadata": {
    "colab": {
     "base_uri": "https://localhost:8080/"
    },
    "id": "aaQV2uLOvri-",
    "outputId": "49e48e1d-44cc-422f-c837-d4596a6180c9"
   },
   "outputs": [],
   "source": [
    "problem = cn.K.Problem(\n",
    "    constraints=sum(weight)<=15, \n",
    "    objectives=sum(total_value), \n",
    "    direction=cn.Direction.MAX)\n",
    "problem"
   ]
  },
  {
   "cell_type": "code",
   "execution_count": null,
   "metadata": {
    "id": "bFqNs2LHwz-q"
   },
   "outputs": [],
   "source": [
    "# Variables have the attribute 'value' to see their optimal value\n",
    "# Before solving the problem, the 'value' attribute is None\n",
    "obj1.value"
   ]
  },
  {
   "cell_type": "code",
   "execution_count": null,
   "metadata": {
    "colab": {
     "base_uri": "https://localhost:8080/"
    },
    "id": "8_VFL7fqwpz9",
    "outputId": "de219e27-cc38-4cb2-8382-e665226bc226"
   },
   "outputs": [],
   "source": [
    "# We can see also the variables defined in the problem\n",
    "# which are stored in a dict\n",
    "problem.symbols"
   ]
  },
  {
   "cell_type": "code",
   "execution_count": null,
   "metadata": {
    "colab": {
     "base_uri": "https://localhost:8080/"
    },
    "id": "3rKouEGyvtn8",
    "outputId": "80d95026-75dd-4674-b7a0-9f308f108789"
   },
   "outputs": [],
   "source": [
    "# Now we solve the problem using a specific solver. If solver is not provided\n",
    "# one is automatically selected by the backend.\n",
    "sol = problem.solve(solver=solver)\n",
    "print(f\"The max. value you can get with the backpack is ${total_value.value[0]}\")"
   ]
  },
  {
   "cell_type": "code",
   "execution_count": null,
   "metadata": {
    "colab": {
     "base_uri": "https://localhost:8080/"
    },
    "id": "4jQv9B3gxBYj",
    "outputId": "2def67fa-e001-4c4f-a059-4ebeaa330279"
   },
   "outputs": [],
   "source": [
    "# After solving the problem, we can see if a particular object was selected \n",
    "# for the backpack (1=selected, 0=not selected)\n",
    "obj1.value"
   ]
  },
  {
   "cell_type": "code",
   "execution_count": null,
   "metadata": {
    "colab": {
     "base_uri": "https://localhost:8080/"
    },
    "id": "P9o23VuMxbYe",
    "outputId": "e0fd66db-2fe6-4406-a915-694ad7e564bf"
   },
   "outputs": [],
   "source": [
    "# Same for our weight and total_value variables\n",
    "weight.value, total_value.value"
   ]
  },
  {
   "cell_type": "code",
   "execution_count": null,
   "metadata": {
    "id": "UtZyK7C7xpOQ"
   },
   "outputs": [],
   "source": [
    "# Exercise. Change the maximum weight to 5 kg and show which objects are selected\n",
    "# ---"
   ]
  },
  {
   "cell_type": "markdown",
   "metadata": {
    "id": "bAi2jlCfyBCc"
   },
   "source": [
    "##### Example 2"
   ]
  },
  {
   "cell_type": "code",
   "execution_count": null,
   "metadata": {
    "colab": {
     "base_uri": "https://localhost:8080/"
    },
    "id": "YZ4C7hgU-b2U",
    "outputId": "d4381a41-1092-4e45-dbd4-a75c3fa34480"
   },
   "outputs": [],
   "source": [
    "# A larger example from:\n",
    "# https://developers.google.com/optimization/pack/knapsack\n",
    "\n",
    "values = [\n",
    "    360, 83, 59, 130, 431, 67, 230, 52, 93, 125, 670, 892, 600, 38, 48, 147,\n",
    "    78, 256, 63, 17, 120, 164, 432, 35, 92, 110, 22, 42, 50, 323, 514, 28,\n",
    "    87, 73, 78, 15, 26, 78, 210, 36, 85, 189, 274, 43, 33, 10, 19, 389, 276,\n",
    "    312\n",
    "]\n",
    "\n",
    "weights = [\n",
    "    7, 0, 30, 22, 80, 94, 11, 81, 70, 64, 59, 18, 0, 36, 3, 8, 15, 42, 9, 0,\n",
    "    42, 47, 52, 32, 26, 48, 55, 6, 29, 84, 2, 4, 18, 56, 7, 29, 93, 44, 71,\n",
    "    3, 86, 66, 31, 65, 0, 79, 20, 65, 52, 13\n",
    "]\n",
    "\n",
    "# We use matrix notation form\n",
    "obj = cn.K.Variable('obj', len(values), vartype=cn.VarType.BINARY)\n",
    "total_value = values @ obj # matrix mul (1, values) x (objects, 1)\n",
    "total_weight = weights @ obj\n",
    "\n",
    "cn.K.Problem(\n",
    "    constraints=total_weight <= 850, \n",
    "    objectives=total_value, \n",
    "    direction=cn.Direction.MAX\n",
    ").solve(verbosity=1, solver=solver)"
   ]
  },
  {
   "cell_type": "code",
   "execution_count": null,
   "metadata": {
    "colab": {
     "base_uri": "https://localhost:8080/"
    },
    "id": "zel1GYjAACRQ",
    "outputId": "92effbfa-8b2b-480c-ecd0-fadb90b51f53"
   },
   "outputs": [],
   "source": [
    "total_value.value, total_weight.value"
   ]
  },
  {
   "cell_type": "markdown",
   "metadata": {
    "id": "Wu-TOHAuC1Cu"
   },
   "source": [
    "##### Network Flow problem\n",
    "\n",
    "<figure>\n",
    "<img src=\"https://github.com/saezlab/PerMedCoE_tools_virtual_course_2023/raw/main/assets/maxflow-example.png\" alt=\"maxflow\" width=\"600\"/>\n",
    "<figcaption>\n",
    "<strong>Figure 11. Illustration of the max flow problem.</strong>\n",
    "</figcaption>\n",
    "</figure>"
   ]
  },
  {
   "cell_type": "code",
   "execution_count": null,
   "metadata": {
    "colab": {
     "base_uri": "https://localhost:8080/",
     "height": 0
    },
    "id": "n2ScgVWG72NL",
    "outputId": "6b8ee5e1-01b3-4ede-e5a4-febda722541c"
   },
   "outputs": [],
   "source": [
    "G = cn.Graph.from_sif_tuples(\n",
    "    [\n",
    "        ('A', 1, 'B'),\n",
    "        ('A', 1, 'C'),\n",
    "        ('B', 1, 'D'),\n",
    "        ('B', 1, 'E'),\n",
    "        ('C', 1, 'D'),\n",
    "        ('C', 1, 'E'),\n",
    "        ('D', 1, 'F'),\n",
    "        ('E', 1, 'F')\n",
    "    ]\n",
    ")\n",
    "G.plot()"
   ]
  },
  {
   "cell_type": "code",
   "execution_count": null,
   "metadata": {
    "colab": {
     "base_uri": "https://localhost:8080/",
     "height": 0
    },
    "id": "3EuL3WR4Edv-",
    "outputId": "dc0e03c3-e9d8-48d5-9a91-ffc82fab532a"
   },
   "outputs": [],
   "source": [
    "G.add_edge((), 'A') # source\n",
    "G.add_edge('F', ()) # sink\n",
    "G.plot()"
   ]
  },
  {
   "cell_type": "code",
   "execution_count": null,
   "metadata": {
    "colab": {
     "base_uri": "https://localhost:8080/"
    },
    "id": "rOkUQdsuDmmd",
    "outputId": "a009b2ba-3d5e-440d-e25f-0fc376a4fc52"
   },
   "outputs": [],
   "source": [
    "import numpy as np\n",
    "\n",
    "problem = cn.K.Flow(G, lb=0, ub=np.array([5, 15, 5, 5, 5, 5, 15, 5, 100, 100]))\n",
    "problem.symbols"
   ]
  },
  {
   "cell_type": "code",
   "execution_count": null,
   "metadata": {
    "colab": {
     "base_uri": "https://localhost:8080/"
    },
    "id": "VroSo7hcFlA3",
    "outputId": "84dc4870-3ab6-4070-9b31-5c10e7fe5e2f"
   },
   "outputs": [],
   "source": [
    "flows = problem.get_symbol(cn.VAR_FLOW)\n",
    "# By default the problem is a minimization problem. There are more\n",
    "# ways to change this but the easiest if we want to maximize flow is to\n",
    "# add a weight of -1 to the objective, so the function optimized is -1 * fn(x)\n",
    "# and the minimization problem is converted to maximization one on that function\n",
    "problem.add_objectives(flows[9], weights=-1)\n",
    "problem.solve(solver=solver)"
   ]
  },
  {
   "cell_type": "code",
   "execution_count": null,
   "metadata": {
    "colab": {
     "base_uri": "https://localhost:8080/"
    },
    "id": "2rLN-MEEF-0T",
    "outputId": "94991bf6-5a68-4676-abe9-bb488b0ce6c1"
   },
   "outputs": [],
   "source": [
    "flows.value"
   ]
  },
  {
   "cell_type": "markdown",
   "metadata": {
    "id": "pJ92Yt_grbEq"
   },
   "source": [
    "#### Customizing carnival\n",
    "\n",
    "First we are going to create a small Prior Knowledge Network (PKN) with few proteins and known interactions\n",
    "\n",
    "> NOTE: Prior Knowledge Networks can be imported using `cn.Graph.from_sif('file.sif')` to import a SIF (Signed Interaction File) network"
   ]
  },
  {
   "cell_type": "code",
   "execution_count": null,
   "metadata": {
    "colab": {
     "base_uri": "https://localhost:8080/",
     "height": 272
    },
    "id": "IS0ER2Dorcrt",
    "outputId": "41743ec3-36f7-40bd-9c30-2cfa5c8c0c6f"
   },
   "outputs": [],
   "source": [
    "G = cn.Graph.from_sif_tuples(\n",
    "    [\n",
    "        ('I1',  1, 'N1'), # I1 activates N1\n",
    "        ('N1',  1, 'M1'), # N1 activates M1\n",
    "        ('N1',  1, 'M2'), # N1 activaes M2\n",
    "        ('I2', -1, 'N2'), # I2 inhibits N2\n",
    "        ('N2', -1, 'M2'), # N2 activates M2\n",
    "        ('N2', -1, 'M1')  # N2 activates M1\n",
    "    ]\n",
    ")\n",
    "G.to_graphviz()"
   ]
  },
  {
   "cell_type": "code",
   "execution_count": null,
   "metadata": {
    "id": "0BLcqaLbsN-Y"
   },
   "outputs": [],
   "source": [
    "from corneto.methods import runVanillaCarnival\n",
    "\n",
    "measurements = {'M1': 1, 'M2': 1}\n",
    "perturbations = {'I1': 1, 'I2': 1}\n",
    "# The method returns the problem definition, and the flow graph for carnival\n",
    "p, Gf = runVanillaCarnival(perturbations, measurements, G, solver=solver)"
   ]
  },
  {
   "cell_type": "code",
   "execution_count": null,
   "metadata": {
    "colab": {
     "base_uri": "https://localhost:8080/",
     "height": 272
    },
    "id": "XecaYvJNsT8k",
    "outputId": "15b40d4c-5c53-400e-bfdb-0b2d789cfd05"
   },
   "outputs": [],
   "source": [
    "G.to_graphviz(problem=p, graph_attr=dict(size=\"5\"))"
   ]
  },
  {
   "cell_type": "code",
   "execution_count": null,
   "metadata": {
    "colab": {
     "base_uri": "https://localhost:8080/",
     "height": 796
    },
    "id": "jkP2qgzILfg2",
    "outputId": "dc08ef4d-1f2f-4701-ac7b-6ff8c3a883cb"
   },
   "outputs": [],
   "source": [
    "# We can see also the flow graph created for the problem.\n",
    "Gf.plot()"
   ]
  },
  {
   "cell_type": "code",
   "execution_count": null,
   "metadata": {
    "colab": {
     "base_uri": "https://localhost:8080/"
    },
    "id": "Yol4Xa3CwY7d",
    "outputId": "9e1a6357-63db-4b98-ff38-51df72746a24"
   },
   "outputs": [],
   "source": [
    "# Inspect the variables created by CARNIVAL. Note that the size of\n",
    "p.symbols"
   ]
  },
  {
   "cell_type": "code",
   "execution_count": null,
   "metadata": {
    "id": "COJjEVGVsjOt"
   },
   "outputs": [],
   "source": [
    "# Find an alternative solution by adding new constraints to carnival\n",
    "# E.g, We know N2 is inhibited, force it\n",
    "species_values = p.symbols['species_inhibited_c0']\n",
    "index = Gf.vertices.index('N2')\n",
    "# We add a new constraint indicating that the variable\n",
    "# representing if N2 is inhibited is equal to 1 (saying that we know it is)\n",
    "p += species_values[index] == 1\n",
    "p.solve();"
   ]
  },
  {
   "cell_type": "markdown",
   "metadata": {
    "id": "59seu9wUJWJ_"
   },
   "source": [
    "## References\n",
    "\n",
    "**1:** A Liu, P Trairatphisan, E Gjerga, A Didangelos, J Barratt, J Saez-Rodriguez (2019) From expression footprints to causal pathways: contextualizing large signaling networks with CARNIVAL. _NPJ Systems Biology and Applications_ 5(40) http://doi.org/10.1038/s41540-019-0118-z\n",
    "\n",
    "**2:** P Badia-i-Mompel, J Vélez-Santiago, J Braunger, C Geiss, D Dimitrov, S Müller-Dott, P Taus, A Dugourd, CH Holland, RO Ramirez-Flores, J Saez-Rodriguez (2022) decoupleR: ensemble of computational methods to infer biological activities from omics data. _Bioinformatics Advances_ 2(1) https://doi.org/10.1093/bioadv/vbac016\n",
    "\n",
    "**3:** D Turei, T Korcsmaros and J Saez-Rodriguez (2016) OmniPath: guidelines and\n",
    "gateway for literature-curated signaling pathway resources. _Nature Methods_\n",
    "13(12) https://doi.org/10.1038/nmeth.4077\n",
    "\n",
    "**4:** D Turei, A Valdeolivas, L Gul, N Palacio-Escat, M Klein, O Ivanova,\n",
    "M Olbei, A Gabor, F Theis, D Modos, T Korcsmaros and J Saez-Rodriguez (2021)\n",
    "Integrated intra- and intercellular signaling knowledge for multicellular\n",
    "omics analysis. _Molecular Systems Biology_ 17:e9923 https://doi.org/10.15252/msb.20209923\n",
    "\n",
    "**5:** JA Bachman, BM Gyori, PK Sorger (2023) Automated assembly of molecular mechanisms at scale from text mining and curated databases. _Molecular Systems Biology_ e11325 https://doi.org/10.15252/msb.202211325\n",
    "\n",
    "**6:** N Le Novère, M Hucka, H Mi, S Moodie, F Schreiber, A Sorokin, E Demir, K Wegner, MI Aladjem, SM Wimalaratne, FT Bergman, R Gauges, P Ghazal, H Kawaji, L Li, Y Matsuoka, A Villéger, SE Boyd, L Calzone, M Courtot, U Dogrusoz, TC Freeman, A Funahashi, S Ghosh, A Jouraku, S Kim, F Kolpakov, A Luna, S Sahle, E Schmidt, S Watterson, G Wu, I Goryanin, DB Kell, C Sander, H Sauro, JL Snoep, K Kohn, H Kitano (2009) The Systems Biology Graphical Notation. _Nature Biotechnology_ 27(8) https://doi.org/10.1038/nbt.1558\n",
    "\n",
    "**7:** S Mueller-Dott, E Tsirvouli, M Vazquez, RO Ramirez-Flores, P Badia-i-Mompel, R Fallegger, A Lagreid, J Saez-Rodriguez (2023) Expanding the coverage of regulons from high-confidence prior knowledge for accurate estimation of transcription factor activities. _bioRxiv_ 2023.03.30.534849 https://doi.org/10.1101/2023.03.30.534849\n",
    "\n",
    "**8:** L Garcia-Alonso, CH Holland, MM Ibrahim, D Turei, J Saez-Rodriguez (2019) Benchmark and integration of resources for the estimation of human transcription factor activities. _Genome Research_ 29(8) https://doi.org/10.1101/gr.240663.118\n",
    "\n",
    "**9:** M Schubert, B Klinger, M Klünemann, A Sieber, F Uhlitz, S Sauer, MJ Garnett, N Blüthgen, J Saez-Rodriguez (2018) Perturbation-response genes reveal signaling footprints in cancer gene expression. _Nature Communications_ 9(20) https://doi.org/10.1038/s41467-017-02391-6\n",
    "\n",
    "**10:** B Muzellec, M Telenczuk, V Cabeli, M Andreux (2022) PyDESeq2: a python package for bulk RNA-seq differential expression analysis. _bioRxiv_ https://doi.org/10.1101/2022.12.14.520412\n",
    "\n",
    "**11:** I Virshup, S Rybakov,FJ Theis, P Angerer, FA Wolf (2021) anndata: Annotated data. _bioRxiv_ https://doi.org/10.1101/2021.12.16.473007 \n",
    "\n",
    "**12:** FA Wolf, P Angerer, FJ Theis (2018) SCANPY: large-scale single-cell gene expression data analysis. _Genome Biology_ 19(15) https://doi.org/10.1186/s13059-017-1382-0\n",
    "\n",
    "**13:** I Virshup, D Bredikhin, L Heumos, G Palla, G Sturm, A Gayoso, I Kats, M Koutrouli, Scverse Community, B Berger, D Pe’er, A Regev, SA Teichmann, F Finotello, FA Wolf, N Yosef, O Stegle, FJ Theis (2023) The scverse project provides a computational ecosystem for single-cell omics data analysis. _Nature Biotechnology_ https://doi.org/10.1038/s41587-023-01733-8\n",
    "\n",
    "**14:** CH Holland, J Tanevski, J Perales-Patón, J Gleixner, MP Kumar, E Mereu, BA Joughin, O Stegle, DA Lauffenburger, H Heyn, B Szalai, J Saez-Rodriguez (2020) Robustness and applicability of transcription factor and pathway analysis tools on single-cell RNA-seq data. _Genome Biology_ 21(36) https://doi.org/10.1186/s13059-020-1949-z\n",
    "\n",
    "**15:** P Jiang, Y Zhang, B Ru, Y Yang, T Vu, R Paul, A Mirza, G Altan-Bonnet, L Liu, E Ruppin, L Wakefield, KW Wucherpfennig (2021) Systematic investigation of cytokine signaling activity at the tissue and single-cell levels. _Nature Methods_ 18 https://doi.org/10.1038/s41592-021-01274-5"
   ]
  },
  {
   "cell_type": "code",
   "execution_count": null,
   "metadata": {},
   "outputs": [],
   "source": []
  }
 ],
 "metadata": {
  "colab": {
   "collapsed_sections": [
    "9bw66TWC7Knk",
    "bAi2jlCfyBCc",
    "Wu-TOHAuC1Cu"
   ],
   "provenance": []
  },
  "kernelspec": {
   "display_name": "Python 3 (ipykernel)",
   "language": "python",
   "name": "python3"
  },
  "language_info": {
   "codemirror_mode": {
    "name": "ipython",
    "version": 3
   },
   "file_extension": ".py",
   "mimetype": "text/x-python",
   "name": "python",
   "nbconvert_exporter": "python",
   "pygments_lexer": "ipython3",
   "version": "3.11.3"
  },
  "toc": {
   "base_numbering": 1,
   "nav_menu": {},
   "number_sections": true,
   "sideBar": true,
   "skip_h1_title": true,
   "title_cell": "Contents",
   "title_sidebar": "Contents",
   "toc_cell": true,
   "toc_position": {},
   "toc_section_display": true,
   "toc_window_display": true
  }
 },
 "nbformat": 4,
 "nbformat_minor": 1
}
