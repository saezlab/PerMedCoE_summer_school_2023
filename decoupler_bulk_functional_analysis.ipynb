{
 "cells": [
  {
   "cell_type": "markdown",
   "id": "a6b025d6",
   "metadata": {
    "id": "a6b025d6"
   },
   "source": [
    "# Bulk functional analysis\n",
    "\n",
    "Notebook imported from: https://decoupler-py.readthedocs.io/en/latest/notebooks/bulk.html. This is the complete tutorial for processing bulk RNA-seq, used in https://colab.research.google.com/drive/1llrWl4S5dpRlk7h6NxFnKiN-2I0UMAWn"
   ]
  },
  {
   "cell_type": "markdown",
   "id": "41d9ebac",
   "metadata": {
    "id": "41d9ebac"
   },
   "source": [
    "Bulk RNA-seq yields many molecular readouts that are hard to interpret by themselves. One way of summarizing this information is by inferring pathway and transcription factor activities from prior knowledge.\n",
    "\n",
    "In this notebook we showcase how to use `decoupler` for transcription factor (TF) and pathway activity inference from a human data-set. The data consists of 6 samples of hepatic stellate cells (HSC) where three of them were activated by the cytokine Transforming growth factor (TGF-β), it is available at GEO [here](https://www.ncbi.nlm.nih.gov/geo/query/acc.cgi?acc=GSE151251).\n",
    "\n",
    "\n",
    "> **Note:** This tutorial assumes that you already know the basics of `decoupler`. Else, check out the [Usage](https://decoupler-py.readthedocs.io/en/latest/notebooks/usage.html) tutorial first.\n",
    "\n"
   ]
  },
  {
   "cell_type": "markdown",
   "id": "36d324eb",
   "metadata": {
    "id": "36d324eb"
   },
   "source": [
    "## Installing and loading packages\n",
    "\n",
    "First, we need to load the relevant packages, `scanpy` to handle RNA-seq data\n",
    "and `decoupler` to use statistical methods. We can install it using micromamba, in the available `saezlab` environment on the virtual machine with `micromamba install scanpy -c conda-forge`."
   ]
  },
  {
   "cell_type": "code",
   "execution_count": null,
   "id": "3a0c0c6e",
   "metadata": {},
   "outputs": [],
   "source": [
    "!micromamba activate saezlab && micromamba install scanpy -c conda-forge"
   ]
  },
  {
   "cell_type": "code",
   "execution_count": null,
   "id": "20d55bbb",
   "metadata": {
    "id": "20d55bbb"
   },
   "outputs": [],
   "source": [
    "import scanpy as sc\n",
    "import decoupler as dc\n",
    "\n",
    "# Only needed for processing\n",
    "import numpy as np\n",
    "import pandas as pd\n",
    "from anndata import AnnData"
   ]
  },
  {
   "cell_type": "markdown",
   "id": "47b662e1",
   "metadata": {
    "id": "47b662e1"
   },
   "source": [
    "## Loading the data\n",
    "\n",
    "We can download the data easily from GEO:"
   ]
  },
  {
   "cell_type": "code",
   "execution_count": null,
   "id": "4651c698",
   "metadata": {
    "colab": {
     "base_uri": "https://localhost:8080/"
    },
    "id": "4651c698",
    "outputId": "15aa0bad-e3c2-4cf1-d735-cf5cd5e28eea"
   },
   "outputs": [],
   "source": [
    "!wget 'https://www.ncbi.nlm.nih.gov/geo/download/?acc=GSE151251&format=file&file=GSE151251%5FHSCs%5FCtrl%2Evs%2EHSCs%5FTGFb%2Ecounts%2Etsv%2Egz' -O counts.txt.gz\n",
    "!gzip -d -f counts.txt.gz"
   ]
  },
  {
   "cell_type": "markdown",
   "id": "01794f8c",
   "metadata": {
    "id": "01794f8c"
   },
   "source": [
    "We can then read it using `pandas`:"
   ]
  },
  {
   "cell_type": "code",
   "execution_count": null,
   "id": "43f47b5b",
   "metadata": {
    "colab": {
     "base_uri": "https://localhost:8080/",
     "height": 311
    },
    "id": "43f47b5b",
    "outputId": "02c94041-ab55-44b7-ac85-43c733f016d4"
   },
   "outputs": [],
   "source": [
    "# Read raw data and process it\n",
    "adata = pd.read_csv('counts.txt', index_col=2, sep='\\t').iloc[:, 5:].T\n",
    "adata"
   ]
  },
  {
   "cell_type": "markdown",
   "id": "212f7c7c",
   "metadata": {
    "id": "212f7c7c"
   },
   "source": [
    "<div class=\"alert alert-info\">\n",
    "\n",
    "**Note**\n",
    "    \n",
    "In case your data does not contain gene symbols but rather gene ids like ENSMBL, you can use the function `sc.queries.biomart_annotations` to retrieve them.\n",
    "In this other [vignette](https://decoupler-py.readthedocs.io/en/latest/notebooks/pseudobulk.html), ENSMBL ids are transformed into gene symbols.\n",
    "\n",
    "\n",
    "</div>"
   ]
  },
  {
   "cell_type": "markdown",
   "id": "6335a2fe",
   "metadata": {
    "id": "6335a2fe"
   },
   "source": [
    "<div class=\"alert alert-info\">\n",
    "\n",
    "**Note**\n",
    "    \n",
    "In case your data is not from human but rather a model organism, you can find their human orthologs using `pypath`.\n",
    "Check this GitHub [issue](https://github.com/saezlab/decoupler-py/issues/5#issuecomment-1137099265) where mouse genes are transformed into human.\n",
    "\n",
    "\n",
    "</div>"
   ]
  },
  {
   "cell_type": "markdown",
   "id": "6bf58d9c",
   "metadata": {
    "id": "6bf58d9c"
   },
   "source": [
    "The obtained data consist of raw read counts for six different samples (three controls, three treatments) for ~60k genes.\n",
    "Before continuing, we will transform our expression data into an `AnnData` object. It handles annotated data matrices\n",
    "efficiently in memory and on disk and is used in the scverse framework. You can read more about it\n",
    "[here](https://scverse.org/) and [here](https://anndata.readthedocs.io/en/latest/)."
   ]
  },
  {
   "cell_type": "code",
   "execution_count": null,
   "id": "6d5ab0b2",
   "metadata": {
    "colab": {
     "base_uri": "https://localhost:8080/"
    },
    "id": "6d5ab0b2",
    "outputId": "741a12c9-8014-48d6-9977-5f2ff61114e8"
   },
   "outputs": [],
   "source": [
    "# Transform to AnnData object\n",
    "adata = AnnData(adata, dtype=np.float32)\n",
    "adata.var_names_make_unique()\n",
    "adata"
   ]
  },
  {
   "cell_type": "markdown",
   "id": "42c4244a",
   "metadata": {
    "id": "42c4244a"
   },
   "source": [
    "Inside an `AnnData` object, there is the `.obs` attribute where we can store the metadata of our samples.\n",
    "Here we will infer the metadata by processing the sample ids, but this could also be added from a separate dataframe:"
   ]
  },
  {
   "cell_type": "code",
   "execution_count": null,
   "id": "836b0d69",
   "metadata": {
    "colab": {
     "base_uri": "https://localhost:8080/",
     "height": 238
    },
    "id": "836b0d69",
    "outputId": "6de6387d-a5eb-404d-85de-9a10957a27fd"
   },
   "outputs": [],
   "source": [
    "# Process treatment information\n",
    "adata.obs['condition'] = ['control' if '-Ctrl' in sample_id else 'treatment' for sample_id in adata.obs.index]\n",
    "\n",
    "# Process sample information\n",
    "adata.obs['sample_id'] = [sample_id.split('_')[0] for sample_id in adata.obs.index]\n",
    "\n",
    "# Visualize metadata\n",
    "adata.obs"
   ]
  },
  {
   "cell_type": "markdown",
   "id": "dc5f2a9b",
   "metadata": {
    "id": "dc5f2a9b"
   },
   "source": [
    "## Quality control\n",
    "\n",
    "Before doing anything we need to ensure that our data passes some quality control thresholds. In transcriptomics it can happen\n",
    "that some genes were not properly profiled and thus need to be removed.\n",
    "\n",
    "To filter genes, we will follow the strategy implemented in the function `filterByExpr` from [edgeR](https://rdrr.io/bioc/edgeR/man/filterByExpr.html).\n",
    "It keeps genes that have a minimum total number of reads across samples (`min_total_count`), and that have a minimum number of counts in a number of samples (`min_count`).\n",
    "\n",
    "We can plot how many genes do we keep, you can play with the `min_count` and `min_total_count` to check how many genes would be kept when changed:"
   ]
  },
  {
   "cell_type": "code",
   "execution_count": null,
   "id": "3a40896c-568e-4a86-a1b7-a5d1b2cb9e3e",
   "metadata": {
    "colab": {
     "base_uri": "https://localhost:8080/",
     "height": 388
    },
    "id": "3a40896c-568e-4a86-a1b7-a5d1b2cb9e3e",
    "outputId": "7084bc84-7c37-4d7d-96de-793e646d8959"
   },
   "outputs": [],
   "source": [
    "dc.plot_filter_by_expr(adata, group=None, min_count=10, min_total_count=15, large_n=1, min_prop=1)"
   ]
  },
  {
   "cell_type": "markdown",
   "id": "90e9b2ae-403e-4bfe-9471-e16ca3477744",
   "metadata": {
    "id": "90e9b2ae-403e-4bfe-9471-e16ca3477744"
   },
   "source": [
    "Here we can observe the frequency of genes with different total sum of counts and number of samples.\n",
    "For this example, we have decided to keep genes that show some degree of expression in all our samples.\n",
    "\n",
    "<div class=\"alert alert-info\">\n",
    "\n",
    "**Note**\n",
    "\n",
    "This thresholds can vary a lot between datasets, manual assessment of them needs to be considered. For example, it might be\n",
    "the case that many genes are not expressed in just one sample which they would get removed by the current setting. For this\n",
    "specific dataset it is fine.\n",
    "\n",
    "</div>\n",
    "\n",
    "Once we are content with the threshold parameters, we can perform the actual filtering:"
   ]
  },
  {
   "cell_type": "code",
   "execution_count": null,
   "id": "6c681d17-998f-4319-8eec-b067dbe6a016",
   "metadata": {
    "colab": {
     "base_uri": "https://localhost:8080/"
    },
    "id": "6c681d17-998f-4319-8eec-b067dbe6a016",
    "outputId": "e481d46d-f3c9-454c-c57c-95113babcef5"
   },
   "outputs": [],
   "source": [
    "# Obtain genes that pass the thresholds\n",
    "genes = dc.filter_by_expr(adata, group=None, min_count=10, min_total_count=15, large_n=1, min_prop=1)\n",
    "\n",
    "# Filter by these genes\n",
    "adata = adata[:, genes].copy()\n",
    "adata"
   ]
  },
  {
   "cell_type": "markdown",
   "id": "4fa8b2a1-7c77-4d66-afbd-cb0559157857",
   "metadata": {
    "id": "4fa8b2a1-7c77-4d66-afbd-cb0559157857"
   },
   "source": [
    "## Differential expression analysis\n",
    "\n",
    "In order to identify which are the genes that are changing the most between treatment and control we can perform differential\n",
    "expression analysis (DEA). For this example, we will perform a simple experimental design where we compare the gene expression\n",
    "of treated cells against controls. We will use the python implementation of the framework DESeq2, but we could have used any\n",
    "other one (`limma` or `edgeR` for example). For a better understanding how it works, check\n",
    "[DESeq2's documentation](https://pydeseq2.readthedocs.io/en/latest/). Note that more complex experimental designs can be used\n",
    "by adding more factors to the `design_factors` argument."
   ]
  },
  {
   "cell_type": "code",
   "execution_count": null,
   "id": "4df3c8ca-e94a-44d9-8ff7-2c51f13e56b0",
   "metadata": {
    "id": "4df3c8ca-e94a-44d9-8ff7-2c51f13e56b0"
   },
   "outputs": [],
   "source": [
    "# Import DESeq2\n",
    "from pydeseq2.dds import DeseqDataSet\n",
    "from pydeseq2.ds import DeseqStats"
   ]
  },
  {
   "cell_type": "code",
   "execution_count": null,
   "id": "b6e6ca8a-97c6-4cfe-8662-1833911b5b64",
   "metadata": {
    "id": "b6e6ca8a-97c6-4cfe-8662-1833911b5b64"
   },
   "outputs": [],
   "source": [
    "# Build DESeq2 object\n",
    "dds = DeseqDataSet(\n",
    "    adata=adata,\n",
    "    design_factors='condition',\n",
    "    refit_cooks=True,\n",
    "    n_cpus=8,\n",
    ")"
   ]
  },
  {
   "cell_type": "code",
   "execution_count": null,
   "id": "96cc03ee-f9c2-4e47-9660-642ceecf6e6f",
   "metadata": {
    "colab": {
     "base_uri": "https://localhost:8080/"
    },
    "id": "96cc03ee-f9c2-4e47-9660-642ceecf6e6f",
    "outputId": "b1d8baec-dac3-4822-f4e8-d552843d47bf"
   },
   "outputs": [],
   "source": [
    "# Compute LFCs\n",
    "dds.deseq2()"
   ]
  },
  {
   "cell_type": "code",
   "execution_count": null,
   "id": "c28301e1-a2ad-411a-a8ab-08e7d65fd43e",
   "metadata": {
    "id": "c28301e1-a2ad-411a-a8ab-08e7d65fd43e"
   },
   "outputs": [],
   "source": [
    "# Extract contrast between COVID-19 vs normal\n",
    "stat_res = DeseqStats(dds, contrast=[\"condition\", 'treatment', 'control'], n_cpus=8)"
   ]
  },
  {
   "cell_type": "code",
   "execution_count": null,
   "id": "44a071fb-41ed-4dc4-ab97-89cd11ddc4f8",
   "metadata": {
    "colab": {
     "base_uri": "https://localhost:8080/",
     "height": 524
    },
    "id": "44a071fb-41ed-4dc4-ab97-89cd11ddc4f8",
    "outputId": "a19b39a7-4593-43d0-ed4f-f786b21dba61"
   },
   "outputs": [],
   "source": [
    "# Compute Wald test\n",
    "stat_res.summary()"
   ]
  },
  {
   "cell_type": "code",
   "execution_count": null,
   "id": "0JA5z3hE9e8A",
   "metadata": {
    "colab": {
     "base_uri": "https://localhost:8080/",
     "height": 455
    },
    "id": "0JA5z3hE9e8A",
    "outputId": "6e9739df-8885-44ff-ee1d-cba3b243caf5"
   },
   "outputs": [],
   "source": [
    "stat_res.LFC"
   ]
  },
  {
   "cell_type": "code",
   "execution_count": null,
   "id": "2368658c-70c1-4194-917c-dc72f59a0a3b",
   "metadata": {
    "colab": {
     "base_uri": "https://localhost:8080/",
     "height": 524
    },
    "id": "2368658c-70c1-4194-917c-dc72f59a0a3b",
    "outputId": "b4d816ce-6346-4d75-891f-04f5b4a559d3"
   },
   "outputs": [],
   "source": [
    "# Shrink LFCs\n",
    "stat_res.lfc_shrink('condition_treatment_vs_control')"
   ]
  },
  {
   "cell_type": "code",
   "execution_count": null,
   "id": "01376338-4f96-4a3b-8d5f-deb06054e7ee",
   "metadata": {
    "colab": {
     "base_uri": "https://localhost:8080/",
     "height": 455
    },
    "id": "01376338-4f96-4a3b-8d5f-deb06054e7ee",
    "outputId": "e98770c1-8f16-43df-b37b-7d0ff7c2bce6"
   },
   "outputs": [],
   "source": [
    "# Extract results\n",
    "results_df = stat_res.results_df\n",
    "results_df"
   ]
  },
  {
   "cell_type": "code",
   "execution_count": null,
   "id": "xLwO2LR2-pd4",
   "metadata": {
    "colab": {
     "base_uri": "https://localhost:8080/",
     "height": 430
    },
    "id": "xLwO2LR2-pd4",
    "outputId": "651ce56e-67b2-4433-fc41-eebf65ab6913"
   },
   "outputs": [],
   "source": [
    "results_df.stat.hist(bins=100);"
   ]
  },
  {
   "cell_type": "code",
   "execution_count": null,
   "id": "qG0WQsT791TY",
   "metadata": {
    "id": "qG0WQsT791TY"
   },
   "outputs": [],
   "source": [
    "results_df.to_csv('deseq2_covid19_vs_normal.csv')"
   ]
  },
  {
   "cell_type": "markdown",
   "id": "a9e0f1e2-c8a4-4d2e-afaf-d454d4e5b40e",
   "metadata": {
    "id": "a9e0f1e2-c8a4-4d2e-afaf-d454d4e5b40e"
   },
   "source": [
    "We can plot the obtained results in a volcano plot:"
   ]
  },
  {
   "cell_type": "code",
   "execution_count": null,
   "id": "f0ceebe8-97ad-4447-aef2-8bd63e9f414e",
   "metadata": {
    "colab": {
     "base_uri": "https://localhost:8080/",
     "height": 500
    },
    "id": "f0ceebe8-97ad-4447-aef2-8bd63e9f414e",
    "outputId": "ae5d7121-50e4-4293-e40b-42f351af6041"
   },
   "outputs": [],
   "source": [
    "dc.plot_volcano_df(results_df, x='log2FoldChange', y='padj', top=20)"
   ]
  },
  {
   "cell_type": "markdown",
   "id": "8676b266-dd45-495f-baee-c1c684a5d445",
   "metadata": {
    "id": "8676b266-dd45-495f-baee-c1c684a5d445"
   },
   "source": [
    "After performing DEA, we can use the obtained gene level statistics to perform enrichment analysis. Any statistic can be used,\n",
    "but we recommend using the t-values instead of logFCs since t-values incorporate the significance of change in their value.\n",
    "We will transform the obtained t-values stored in `stats` to a wide matrix so that it can be used by `decoupler`:"
   ]
  },
  {
   "cell_type": "code",
   "execution_count": null,
   "id": "715f76e6-a2a5-46bc-9c11-e4f352c651fc",
   "metadata": {
    "colab": {
     "base_uri": "https://localhost:8080/",
     "height": 191
    },
    "id": "715f76e6-a2a5-46bc-9c11-e4f352c651fc",
    "outputId": "95726d54-f38e-48b1-ba3b-09144306fa73"
   },
   "outputs": [],
   "source": [
    "mat = results_df[['stat']].T.rename(index={'stat': 'treatment.vs.control'})\n",
    "mat"
   ]
  },
  {
   "cell_type": "code",
   "execution_count": null,
   "id": "tVMdwvxt-exY",
   "metadata": {
    "id": "tVMdwvxt-exY"
   },
   "outputs": [],
   "source": [
    "mat.to_csv('deseq2_stat_covid19_vs_normal.csv')"
   ]
  },
  {
   "cell_type": "markdown",
   "id": "9efaec0f-ac00-49a4-8297-53a310ec1bb3",
   "metadata": {
    "id": "9efaec0f-ac00-49a4-8297-53a310ec1bb3"
   },
   "source": [
    "## Pathway activity inference\n",
    "To estimate pathway activities we will use the resource PROGENy and the `consensus` method.\n",
    "\n",
    "For another example on pathway activities please visit this other notebook: [Pathway activity inference](https://decoupler-py.readthedocs.io/en/latest/notebooks/progeny.html)."
   ]
  },
  {
   "cell_type": "code",
   "execution_count": null,
   "id": "bd82e675-cb82-4fbe-8b93-50ceb73b7373",
   "metadata": {
    "colab": {
     "base_uri": "https://localhost:8080/",
     "height": 113,
     "referenced_widgets": [
      "f696e23a11cd4d2ba00f4130f594e982",
      "d1ec2840bf184dfcb57439074601b8c2",
      "260f41c82a584053abd7355cc1d2cfa7",
      "c31e5ffb02c64defbc9c04641e2ae8cb",
      "bd1c12673b254c8c81e7a84db1b7840c",
      "d54e08c8c0604746b2aa81a5f18ad5ce",
      "9da23b1fa89248728df7f9198e57e0bf",
      "8ced0500752e49ec96c568a681a947f1",
      "eb98985299e74ccc907cdec036f2932e",
      "8ff23af4342a40dc805afb6c3b30225a",
      "e78b1f0ef5434e2d8460631e6fd34d2a"
     ]
    },
    "id": "bd82e675-cb82-4fbe-8b93-50ceb73b7373",
    "outputId": "e4d980df-62f1-41b4-98fa-cf9a142dc54f"
   },
   "outputs": [],
   "source": [
    "# Retrieve PROGENy model weights\n",
    "progeny = dc.get_progeny(top=300)\n",
    "\n",
    "# Infer pathway activities with consensus\n",
    "pathway_acts, pathway_pvals = dc.run_consensus(mat=mat, net=progeny)\n",
    "pathway_acts"
   ]
  },
  {
   "cell_type": "markdown",
   "id": "96d8aa60-3cff-476e-8050-a911932b1059",
   "metadata": {
    "id": "96d8aa60-3cff-476e-8050-a911932b1059"
   },
   "source": [
    "Let us plot the obtained scores:"
   ]
  },
  {
   "cell_type": "code",
   "execution_count": null,
   "id": "ea55464a-8ead-408c-b9ce-0d8284758bcc",
   "metadata": {
    "colab": {
     "base_uri": "https://localhost:8080/",
     "height": 498
    },
    "id": "ea55464a-8ead-408c-b9ce-0d8284758bcc",
    "outputId": "e762e9e4-ac73-4ffb-abfb-a9a1f1dcf337"
   },
   "outputs": [],
   "source": [
    "dc.plot_barplot(pathway_acts, 'treatment.vs.control', top=25, vertical=False)"
   ]
  },
  {
   "cell_type": "markdown",
   "id": "90c413af-aaca-42a7-9980-c7bd8a6cd81d",
   "metadata": {
    "id": "90c413af-aaca-42a7-9980-c7bd8a6cd81d"
   },
   "source": [
    "As expected, after treating cells with the cytokine TGFb we see an increase of activity for this pathway.\n",
    "\n",
    "On the other hand, it seems that this treatment has decreased the activity of other pathways like JAK-STAT or TNFa.\n",
    "\n",
    "We can visualize the targets of TFGb in a scatter plot:"
   ]
  },
  {
   "cell_type": "code",
   "execution_count": null,
   "id": "6a237ad3-bae4-4fa2-b265-51b938f90250",
   "metadata": {
    "colab": {
     "base_uri": "https://localhost:8080/",
     "height": 487
    },
    "id": "6a237ad3-bae4-4fa2-b265-51b938f90250",
    "outputId": "dc51c685-06c7-4ca1-930a-22c20874e7ef"
   },
   "outputs": [],
   "source": [
    "dc.plot_targets(results_df, stat='stat', source_name='TGFb', net=progeny, top=15)"
   ]
  },
  {
   "cell_type": "markdown",
   "id": "49c87ac5",
   "metadata": {
    "id": "49c87ac5"
   },
   "source": [
    "The observed activation of TGFb is due to the fact that majority of its target genes with positive weights have positive\n",
    "t-values (1st quadrant), and the majority of the ones with negative weights have negative t-values (3d quadrant)."
   ]
  },
  {
   "cell_type": "markdown",
   "id": "3fe9dee7",
   "metadata": {
    "id": "3fe9dee7"
   },
   "source": [
    "## Transcription factor activity inference\n",
    "Similarly to pathways, we can estimate transcription factor activities using the resource DoRothEA and the `consensus` method.\n",
    "\n",
    "For another example on transcription factor activities please visit this other notebook: [Transcription factor activity inference](https://decoupler-py.readthedocs.io/en/latest/notebooks/dorothea.html)."
   ]
  },
  {
   "cell_type": "code",
   "execution_count": null,
   "id": "3b8386a0",
   "metadata": {
    "colab": {
     "base_uri": "https://localhost:8080/",
     "height": 206,
     "referenced_widgets": [
      "64adbf3f6ebc4cc8865a0c9f27a6b85e",
      "293296a2c9064bd8a5be629acf9707d1",
      "844496eea80949f0b5b23c4e260ad368",
      "08aaa7e1a7b3442997433f845ca881f6",
      "6db25fe8d40440c9a0831d54ad7457de",
      "c5a9292ebc214e048adaedc8e3246b6c",
      "298fba1a31f74292b91561dcf13fdaf7",
      "e5d04fa8af524bf5aa88c748edc73bd2",
      "07c35201dae5492ca1857643497d617b",
      "bfb5d31441dd462f9ca929076f198040",
      "7356fce081434e6cb55175acd66c9eb0"
     ]
    },
    "id": "3b8386a0",
    "outputId": "3010a33c-0062-4d52-ff05-1a99f45322a7"
   },
   "outputs": [],
   "source": [
    "# Retrieve DoRothEA gene regulatory network\n",
    "dorothea = dc.get_dorothea()\n",
    "\n",
    "# Infer pathway activities with consensus\n",
    "tf_acts, tf_pvals = dc.run_consensus(mat=mat, net=dorothea)\n",
    "tf_acts"
   ]
  },
  {
   "cell_type": "markdown",
   "id": "a3834731",
   "metadata": {
    "id": "a3834731"
   },
   "source": [
    "Let us plot the obtained scores for the top active/inactive transcription factors:"
   ]
  },
  {
   "cell_type": "code",
   "execution_count": null,
   "id": "f810e11d",
   "metadata": {
    "colab": {
     "base_uri": "https://localhost:8080/",
     "height": 465
    },
    "id": "f810e11d",
    "outputId": "829a1d13-034c-49b3-fe37-ea962c1add95"
   },
   "outputs": [],
   "source": [
    "dc.plot_barplot(tf_acts, 'treatment.vs.control', top=25, vertical=True)"
   ]
  },
  {
   "cell_type": "markdown",
   "id": "2b4cf5b1",
   "metadata": {
    "id": "2b4cf5b1"
   },
   "source": [
    "SRF, E2F4 and EPAS1 seem to be the most activated in this treatment while STAT2, IRF1 AND MAFG seem to be inactivated.\n",
    "\n",
    "As before, we can manually inspect the downstream targets of each transcription factor:"
   ]
  },
  {
   "cell_type": "code",
   "execution_count": null,
   "id": "f3256b33-2797-4f3d-8cbe-67f950cedf29",
   "metadata": {
    "colab": {
     "base_uri": "https://localhost:8080/",
     "height": 487
    },
    "id": "f3256b33-2797-4f3d-8cbe-67f950cedf29",
    "outputId": "a63d7000-c07f-4d7f-ca3c-3069a67b5992"
   },
   "outputs": [],
   "source": [
    "dc.plot_targets(results_df, stat='stat', source_name='SRF', net=dorothea, top=15)"
   ]
  },
  {
   "cell_type": "markdown",
   "id": "da98dd02-84ea-4b29-9231-bbf40378defa",
   "metadata": {
    "id": "da98dd02-84ea-4b29-9231-bbf40378defa"
   },
   "source": [
    "SRF seems to be active in treated cells since their positive targets are up-regulated.\n",
    "\n",
    "If needed, we can also look at this at the volcano plot:"
   ]
  },
  {
   "cell_type": "code",
   "execution_count": null,
   "id": "92d55a88",
   "metadata": {
    "colab": {
     "base_uri": "https://localhost:8080/",
     "height": 522
    },
    "id": "92d55a88",
    "outputId": "631a06b8-a5b7-41df-8cc8-cbc6cae15e30"
   },
   "outputs": [],
   "source": [
    "# Extract logFCs and pvals\n",
    "logFCs = results_df[['log2FoldChange']].T.rename(index={'log2FoldChange': 'treatment.vs.control'})\n",
    "pvals = results_df[['padj']].T.rename(index={'padj': 'treatment.vs.control'})\n",
    "\n",
    "# Plot\n",
    "dc.plot_volcano(logFCs, pvals, 'treatment.vs.control', name='SRF', net=dorothea, top=10, sign_thr=0.05, lFCs_thr=0.5)"
   ]
  }
 ],
 "metadata": {
  "colab": {
   "provenance": []
  },
  "gpuClass": "standard",
  "kernelspec": {
   "display_name": "Python 3 (ipykernel)",
   "language": "python",
   "name": "python3"
  },
  "language_info": {
   "codemirror_mode": {
    "name": "ipython",
    "version": 3
   },
   "file_extension": ".py",
   "mimetype": "text/x-python",
   "name": "python",
   "nbconvert_exporter": "python",
   "pygments_lexer": "ipython3",
   "version": "3.10.10"
  },
  "toc": {
   "base_numbering": 1,
   "nav_menu": {},
   "number_sections": true,
   "sideBar": true,
   "skip_h1_title": false,
   "title_cell": "Table of Contents",
   "title_sidebar": "Contents",
   "toc_cell": false,
   "toc_position": {},
   "toc_section_display": true,
   "toc_window_display": false
  },
  "widgets": {
   "application/vnd.jupyter.widget-state+json": {
    "07c35201dae5492ca1857643497d617b": {
     "model_module": "@jupyter-widgets/controls",
     "model_module_version": "1.5.0",
     "model_name": "ProgressStyleModel",
     "state": {
      "_model_module": "@jupyter-widgets/controls",
      "_model_module_version": "1.5.0",
      "_model_name": "ProgressStyleModel",
      "_view_count": null,
      "_view_module": "@jupyter-widgets/base",
      "_view_module_version": "1.2.0",
      "_view_name": "StyleView",
      "bar_color": null,
      "description_width": ""
     }
    },
    "08aaa7e1a7b3442997433f845ca881f6": {
     "model_module": "@jupyter-widgets/controls",
     "model_module_version": "1.5.0",
     "model_name": "HTMLModel",
     "state": {
      "_dom_classes": [],
      "_model_module": "@jupyter-widgets/controls",
      "_model_module_version": "1.5.0",
      "_model_name": "HTMLModel",
      "_view_count": null,
      "_view_module": "@jupyter-widgets/controls",
      "_view_module_version": "1.5.0",
      "_view_name": "HTMLView",
      "description": "",
      "description_tooltip": null,
      "layout": "IPY_MODEL_bfb5d31441dd462f9ca929076f198040",
      "placeholder": "​",
      "style": "IPY_MODEL_7356fce081434e6cb55175acd66c9eb0",
      "value": " 55.0M/? [00:00&lt;00:00, 118MB/s]"
     }
    },
    "260f41c82a584053abd7355cc1d2cfa7": {
     "model_module": "@jupyter-widgets/controls",
     "model_module_version": "1.5.0",
     "model_name": "FloatProgressModel",
     "state": {
      "_dom_classes": [],
      "_model_module": "@jupyter-widgets/controls",
      "_model_module_version": "1.5.0",
      "_model_name": "FloatProgressModel",
      "_view_count": null,
      "_view_module": "@jupyter-widgets/controls",
      "_view_module_version": "1.5.0",
      "_view_name": "ProgressView",
      "bar_style": "success",
      "description": "",
      "description_tooltip": null,
      "layout": "IPY_MODEL_8ced0500752e49ec96c568a681a947f1",
      "max": 1,
      "min": 0,
      "orientation": "horizontal",
      "style": "IPY_MODEL_eb98985299e74ccc907cdec036f2932e",
      "value": 1
     }
    },
    "293296a2c9064bd8a5be629acf9707d1": {
     "model_module": "@jupyter-widgets/controls",
     "model_module_version": "1.5.0",
     "model_name": "HTMLModel",
     "state": {
      "_dom_classes": [],
      "_model_module": "@jupyter-widgets/controls",
      "_model_module_version": "1.5.0",
      "_model_name": "HTMLModel",
      "_view_count": null,
      "_view_module": "@jupyter-widgets/controls",
      "_view_module_version": "1.5.0",
      "_view_name": "HTMLView",
      "description": "",
      "description_tooltip": null,
      "layout": "IPY_MODEL_c5a9292ebc214e048adaedc8e3246b6c",
      "placeholder": "​",
      "style": "IPY_MODEL_298fba1a31f74292b91561dcf13fdaf7",
      "value": ""
     }
    },
    "298fba1a31f74292b91561dcf13fdaf7": {
     "model_module": "@jupyter-widgets/controls",
     "model_module_version": "1.5.0",
     "model_name": "DescriptionStyleModel",
     "state": {
      "_model_module": "@jupyter-widgets/controls",
      "_model_module_version": "1.5.0",
      "_model_name": "DescriptionStyleModel",
      "_view_count": null,
      "_view_module": "@jupyter-widgets/base",
      "_view_module_version": "1.2.0",
      "_view_name": "StyleView",
      "description_width": ""
     }
    },
    "64adbf3f6ebc4cc8865a0c9f27a6b85e": {
     "model_module": "@jupyter-widgets/controls",
     "model_module_version": "1.5.0",
     "model_name": "HBoxModel",
     "state": {
      "_dom_classes": [],
      "_model_module": "@jupyter-widgets/controls",
      "_model_module_version": "1.5.0",
      "_model_name": "HBoxModel",
      "_view_count": null,
      "_view_module": "@jupyter-widgets/controls",
      "_view_module_version": "1.5.0",
      "_view_name": "HBoxView",
      "box_style": "",
      "children": [
       "IPY_MODEL_293296a2c9064bd8a5be629acf9707d1",
       "IPY_MODEL_844496eea80949f0b5b23c4e260ad368",
       "IPY_MODEL_08aaa7e1a7b3442997433f845ca881f6"
      ],
      "layout": "IPY_MODEL_6db25fe8d40440c9a0831d54ad7457de"
     }
    },
    "6db25fe8d40440c9a0831d54ad7457de": {
     "model_module": "@jupyter-widgets/base",
     "model_module_version": "1.2.0",
     "model_name": "LayoutModel",
     "state": {
      "_model_module": "@jupyter-widgets/base",
      "_model_module_version": "1.2.0",
      "_model_name": "LayoutModel",
      "_view_count": null,
      "_view_module": "@jupyter-widgets/base",
      "_view_module_version": "1.2.0",
      "_view_name": "LayoutView",
      "align_content": null,
      "align_items": null,
      "align_self": null,
      "border": null,
      "bottom": null,
      "display": null,
      "flex": null,
      "flex_flow": null,
      "grid_area": null,
      "grid_auto_columns": null,
      "grid_auto_flow": null,
      "grid_auto_rows": null,
      "grid_column": null,
      "grid_gap": null,
      "grid_row": null,
      "grid_template_areas": null,
      "grid_template_columns": null,
      "grid_template_rows": null,
      "height": null,
      "justify_content": null,
      "justify_items": null,
      "left": null,
      "margin": null,
      "max_height": null,
      "max_width": null,
      "min_height": null,
      "min_width": null,
      "object_fit": null,
      "object_position": null,
      "order": null,
      "overflow": null,
      "overflow_x": null,
      "overflow_y": null,
      "padding": null,
      "right": null,
      "top": null,
      "visibility": null,
      "width": null
     }
    },
    "7356fce081434e6cb55175acd66c9eb0": {
     "model_module": "@jupyter-widgets/controls",
     "model_module_version": "1.5.0",
     "model_name": "DescriptionStyleModel",
     "state": {
      "_model_module": "@jupyter-widgets/controls",
      "_model_module_version": "1.5.0",
      "_model_name": "DescriptionStyleModel",
      "_view_count": null,
      "_view_module": "@jupyter-widgets/base",
      "_view_module_version": "1.2.0",
      "_view_name": "StyleView",
      "description_width": ""
     }
    },
    "844496eea80949f0b5b23c4e260ad368": {
     "model_module": "@jupyter-widgets/controls",
     "model_module_version": "1.5.0",
     "model_name": "FloatProgressModel",
     "state": {
      "_dom_classes": [],
      "_model_module": "@jupyter-widgets/controls",
      "_model_module_version": "1.5.0",
      "_model_name": "FloatProgressModel",
      "_view_count": null,
      "_view_module": "@jupyter-widgets/controls",
      "_view_module_version": "1.5.0",
      "_view_name": "ProgressView",
      "bar_style": "success",
      "description": "",
      "description_tooltip": null,
      "layout": "IPY_MODEL_e5d04fa8af524bf5aa88c748edc73bd2",
      "max": 1,
      "min": 0,
      "orientation": "horizontal",
      "style": "IPY_MODEL_07c35201dae5492ca1857643497d617b",
      "value": 1
     }
    },
    "8ced0500752e49ec96c568a681a947f1": {
     "model_module": "@jupyter-widgets/base",
     "model_module_version": "1.2.0",
     "model_name": "LayoutModel",
     "state": {
      "_model_module": "@jupyter-widgets/base",
      "_model_module_version": "1.2.0",
      "_model_name": "LayoutModel",
      "_view_count": null,
      "_view_module": "@jupyter-widgets/base",
      "_view_module_version": "1.2.0",
      "_view_name": "LayoutView",
      "align_content": null,
      "align_items": null,
      "align_self": null,
      "border": null,
      "bottom": null,
      "display": null,
      "flex": null,
      "flex_flow": null,
      "grid_area": null,
      "grid_auto_columns": null,
      "grid_auto_flow": null,
      "grid_auto_rows": null,
      "grid_column": null,
      "grid_gap": null,
      "grid_row": null,
      "grid_template_areas": null,
      "grid_template_columns": null,
      "grid_template_rows": null,
      "height": null,
      "justify_content": null,
      "justify_items": null,
      "left": null,
      "margin": null,
      "max_height": null,
      "max_width": null,
      "min_height": null,
      "min_width": null,
      "object_fit": null,
      "object_position": null,
      "order": null,
      "overflow": null,
      "overflow_x": null,
      "overflow_y": null,
      "padding": null,
      "right": null,
      "top": null,
      "visibility": null,
      "width": "20px"
     }
    },
    "8ff23af4342a40dc805afb6c3b30225a": {
     "model_module": "@jupyter-widgets/base",
     "model_module_version": "1.2.0",
     "model_name": "LayoutModel",
     "state": {
      "_model_module": "@jupyter-widgets/base",
      "_model_module_version": "1.2.0",
      "_model_name": "LayoutModel",
      "_view_count": null,
      "_view_module": "@jupyter-widgets/base",
      "_view_module_version": "1.2.0",
      "_view_name": "LayoutView",
      "align_content": null,
      "align_items": null,
      "align_self": null,
      "border": null,
      "bottom": null,
      "display": null,
      "flex": null,
      "flex_flow": null,
      "grid_area": null,
      "grid_auto_columns": null,
      "grid_auto_flow": null,
      "grid_auto_rows": null,
      "grid_column": null,
      "grid_gap": null,
      "grid_row": null,
      "grid_template_areas": null,
      "grid_template_columns": null,
      "grid_template_rows": null,
      "height": null,
      "justify_content": null,
      "justify_items": null,
      "left": null,
      "margin": null,
      "max_height": null,
      "max_width": null,
      "min_height": null,
      "min_width": null,
      "object_fit": null,
      "object_position": null,
      "order": null,
      "overflow": null,
      "overflow_x": null,
      "overflow_y": null,
      "padding": null,
      "right": null,
      "top": null,
      "visibility": null,
      "width": null
     }
    },
    "9da23b1fa89248728df7f9198e57e0bf": {
     "model_module": "@jupyter-widgets/controls",
     "model_module_version": "1.5.0",
     "model_name": "DescriptionStyleModel",
     "state": {
      "_model_module": "@jupyter-widgets/controls",
      "_model_module_version": "1.5.0",
      "_model_name": "DescriptionStyleModel",
      "_view_count": null,
      "_view_module": "@jupyter-widgets/base",
      "_view_module_version": "1.2.0",
      "_view_name": "StyleView",
      "description_width": ""
     }
    },
    "bd1c12673b254c8c81e7a84db1b7840c": {
     "model_module": "@jupyter-widgets/base",
     "model_module_version": "1.2.0",
     "model_name": "LayoutModel",
     "state": {
      "_model_module": "@jupyter-widgets/base",
      "_model_module_version": "1.2.0",
      "_model_name": "LayoutModel",
      "_view_count": null,
      "_view_module": "@jupyter-widgets/base",
      "_view_module_version": "1.2.0",
      "_view_name": "LayoutView",
      "align_content": null,
      "align_items": null,
      "align_self": null,
      "border": null,
      "bottom": null,
      "display": null,
      "flex": null,
      "flex_flow": null,
      "grid_area": null,
      "grid_auto_columns": null,
      "grid_auto_flow": null,
      "grid_auto_rows": null,
      "grid_column": null,
      "grid_gap": null,
      "grid_row": null,
      "grid_template_areas": null,
      "grid_template_columns": null,
      "grid_template_rows": null,
      "height": null,
      "justify_content": null,
      "justify_items": null,
      "left": null,
      "margin": null,
      "max_height": null,
      "max_width": null,
      "min_height": null,
      "min_width": null,
      "object_fit": null,
      "object_position": null,
      "order": null,
      "overflow": null,
      "overflow_x": null,
      "overflow_y": null,
      "padding": null,
      "right": null,
      "top": null,
      "visibility": null,
      "width": null
     }
    },
    "bfb5d31441dd462f9ca929076f198040": {
     "model_module": "@jupyter-widgets/base",
     "model_module_version": "1.2.0",
     "model_name": "LayoutModel",
     "state": {
      "_model_module": "@jupyter-widgets/base",
      "_model_module_version": "1.2.0",
      "_model_name": "LayoutModel",
      "_view_count": null,
      "_view_module": "@jupyter-widgets/base",
      "_view_module_version": "1.2.0",
      "_view_name": "LayoutView",
      "align_content": null,
      "align_items": null,
      "align_self": null,
      "border": null,
      "bottom": null,
      "display": null,
      "flex": null,
      "flex_flow": null,
      "grid_area": null,
      "grid_auto_columns": null,
      "grid_auto_flow": null,
      "grid_auto_rows": null,
      "grid_column": null,
      "grid_gap": null,
      "grid_row": null,
      "grid_template_areas": null,
      "grid_template_columns": null,
      "grid_template_rows": null,
      "height": null,
      "justify_content": null,
      "justify_items": null,
      "left": null,
      "margin": null,
      "max_height": null,
      "max_width": null,
      "min_height": null,
      "min_width": null,
      "object_fit": null,
      "object_position": null,
      "order": null,
      "overflow": null,
      "overflow_x": null,
      "overflow_y": null,
      "padding": null,
      "right": null,
      "top": null,
      "visibility": null,
      "width": null
     }
    },
    "c31e5ffb02c64defbc9c04641e2ae8cb": {
     "model_module": "@jupyter-widgets/controls",
     "model_module_version": "1.5.0",
     "model_name": "HTMLModel",
     "state": {
      "_dom_classes": [],
      "_model_module": "@jupyter-widgets/controls",
      "_model_module_version": "1.5.0",
      "_model_name": "HTMLModel",
      "_view_count": null,
      "_view_module": "@jupyter-widgets/controls",
      "_view_module_version": "1.5.0",
      "_view_name": "HTMLView",
      "description": "",
      "description_tooltip": null,
      "layout": "IPY_MODEL_8ff23af4342a40dc805afb6c3b30225a",
      "placeholder": "​",
      "style": "IPY_MODEL_e78b1f0ef5434e2d8460631e6fd34d2a",
      "value": " 39.0M/? [00:00&lt;00:00, 73.0MB/s]"
     }
    },
    "c5a9292ebc214e048adaedc8e3246b6c": {
     "model_module": "@jupyter-widgets/base",
     "model_module_version": "1.2.0",
     "model_name": "LayoutModel",
     "state": {
      "_model_module": "@jupyter-widgets/base",
      "_model_module_version": "1.2.0",
      "_model_name": "LayoutModel",
      "_view_count": null,
      "_view_module": "@jupyter-widgets/base",
      "_view_module_version": "1.2.0",
      "_view_name": "LayoutView",
      "align_content": null,
      "align_items": null,
      "align_self": null,
      "border": null,
      "bottom": null,
      "display": null,
      "flex": null,
      "flex_flow": null,
      "grid_area": null,
      "grid_auto_columns": null,
      "grid_auto_flow": null,
      "grid_auto_rows": null,
      "grid_column": null,
      "grid_gap": null,
      "grid_row": null,
      "grid_template_areas": null,
      "grid_template_columns": null,
      "grid_template_rows": null,
      "height": null,
      "justify_content": null,
      "justify_items": null,
      "left": null,
      "margin": null,
      "max_height": null,
      "max_width": null,
      "min_height": null,
      "min_width": null,
      "object_fit": null,
      "object_position": null,
      "order": null,
      "overflow": null,
      "overflow_x": null,
      "overflow_y": null,
      "padding": null,
      "right": null,
      "top": null,
      "visibility": null,
      "width": null
     }
    },
    "d1ec2840bf184dfcb57439074601b8c2": {
     "model_module": "@jupyter-widgets/controls",
     "model_module_version": "1.5.0",
     "model_name": "HTMLModel",
     "state": {
      "_dom_classes": [],
      "_model_module": "@jupyter-widgets/controls",
      "_model_module_version": "1.5.0",
      "_model_name": "HTMLModel",
      "_view_count": null,
      "_view_module": "@jupyter-widgets/controls",
      "_view_module_version": "1.5.0",
      "_view_name": "HTMLView",
      "description": "",
      "description_tooltip": null,
      "layout": "IPY_MODEL_d54e08c8c0604746b2aa81a5f18ad5ce",
      "placeholder": "​",
      "style": "IPY_MODEL_9da23b1fa89248728df7f9198e57e0bf",
      "value": ""
     }
    },
    "d54e08c8c0604746b2aa81a5f18ad5ce": {
     "model_module": "@jupyter-widgets/base",
     "model_module_version": "1.2.0",
     "model_name": "LayoutModel",
     "state": {
      "_model_module": "@jupyter-widgets/base",
      "_model_module_version": "1.2.0",
      "_model_name": "LayoutModel",
      "_view_count": null,
      "_view_module": "@jupyter-widgets/base",
      "_view_module_version": "1.2.0",
      "_view_name": "LayoutView",
      "align_content": null,
      "align_items": null,
      "align_self": null,
      "border": null,
      "bottom": null,
      "display": null,
      "flex": null,
      "flex_flow": null,
      "grid_area": null,
      "grid_auto_columns": null,
      "grid_auto_flow": null,
      "grid_auto_rows": null,
      "grid_column": null,
      "grid_gap": null,
      "grid_row": null,
      "grid_template_areas": null,
      "grid_template_columns": null,
      "grid_template_rows": null,
      "height": null,
      "justify_content": null,
      "justify_items": null,
      "left": null,
      "margin": null,
      "max_height": null,
      "max_width": null,
      "min_height": null,
      "min_width": null,
      "object_fit": null,
      "object_position": null,
      "order": null,
      "overflow": null,
      "overflow_x": null,
      "overflow_y": null,
      "padding": null,
      "right": null,
      "top": null,
      "visibility": null,
      "width": null
     }
    },
    "e5d04fa8af524bf5aa88c748edc73bd2": {
     "model_module": "@jupyter-widgets/base",
     "model_module_version": "1.2.0",
     "model_name": "LayoutModel",
     "state": {
      "_model_module": "@jupyter-widgets/base",
      "_model_module_version": "1.2.0",
      "_model_name": "LayoutModel",
      "_view_count": null,
      "_view_module": "@jupyter-widgets/base",
      "_view_module_version": "1.2.0",
      "_view_name": "LayoutView",
      "align_content": null,
      "align_items": null,
      "align_self": null,
      "border": null,
      "bottom": null,
      "display": null,
      "flex": null,
      "flex_flow": null,
      "grid_area": null,
      "grid_auto_columns": null,
      "grid_auto_flow": null,
      "grid_auto_rows": null,
      "grid_column": null,
      "grid_gap": null,
      "grid_row": null,
      "grid_template_areas": null,
      "grid_template_columns": null,
      "grid_template_rows": null,
      "height": null,
      "justify_content": null,
      "justify_items": null,
      "left": null,
      "margin": null,
      "max_height": null,
      "max_width": null,
      "min_height": null,
      "min_width": null,
      "object_fit": null,
      "object_position": null,
      "order": null,
      "overflow": null,
      "overflow_x": null,
      "overflow_y": null,
      "padding": null,
      "right": null,
      "top": null,
      "visibility": null,
      "width": "20px"
     }
    },
    "e78b1f0ef5434e2d8460631e6fd34d2a": {
     "model_module": "@jupyter-widgets/controls",
     "model_module_version": "1.5.0",
     "model_name": "DescriptionStyleModel",
     "state": {
      "_model_module": "@jupyter-widgets/controls",
      "_model_module_version": "1.5.0",
      "_model_name": "DescriptionStyleModel",
      "_view_count": null,
      "_view_module": "@jupyter-widgets/base",
      "_view_module_version": "1.2.0",
      "_view_name": "StyleView",
      "description_width": ""
     }
    },
    "eb98985299e74ccc907cdec036f2932e": {
     "model_module": "@jupyter-widgets/controls",
     "model_module_version": "1.5.0",
     "model_name": "ProgressStyleModel",
     "state": {
      "_model_module": "@jupyter-widgets/controls",
      "_model_module_version": "1.5.0",
      "_model_name": "ProgressStyleModel",
      "_view_count": null,
      "_view_module": "@jupyter-widgets/base",
      "_view_module_version": "1.2.0",
      "_view_name": "StyleView",
      "bar_color": null,
      "description_width": ""
     }
    },
    "f696e23a11cd4d2ba00f4130f594e982": {
     "model_module": "@jupyter-widgets/controls",
     "model_module_version": "1.5.0",
     "model_name": "HBoxModel",
     "state": {
      "_dom_classes": [],
      "_model_module": "@jupyter-widgets/controls",
      "_model_module_version": "1.5.0",
      "_model_name": "HBoxModel",
      "_view_count": null,
      "_view_module": "@jupyter-widgets/controls",
      "_view_module_version": "1.5.0",
      "_view_name": "HBoxView",
      "box_style": "",
      "children": [
       "IPY_MODEL_d1ec2840bf184dfcb57439074601b8c2",
       "IPY_MODEL_260f41c82a584053abd7355cc1d2cfa7",
       "IPY_MODEL_c31e5ffb02c64defbc9c04641e2ae8cb"
      ],
      "layout": "IPY_MODEL_bd1c12673b254c8c81e7a84db1b7840c"
     }
    }
   }
  }
 },
 "nbformat": 4,
 "nbformat_minor": 5
}
